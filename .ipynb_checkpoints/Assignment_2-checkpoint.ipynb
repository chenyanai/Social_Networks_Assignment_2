{
 "cells": [
  {
   "cell_type": "code",
   "execution_count": 19,
   "metadata": {},
   "outputs": [],
   "source": [
    "import networkx as nx\n",
    "import pandas as pd\n",
    "import numpy as np\n",
    "import matplotlib.pyplot as plt\n",
    "%matplotlib inline"
   ]
  },
  {
   "cell_type": "code",
   "execution_count": 90,
   "metadata": {},
   "outputs": [
    {
     "data": {
      "text/plain": [
       "NodeDataView({'24': {'url': u'https://oknesset.org/member/863', 'party': u'The Jewish Home', 'label': 'Eli Ben-Dahan', 'n_bills': 3.0, 'photo': u'photos/BenDahan_Eliahu.jpg'}, '25': {'url': u'https://oknesset.org/member/928', 'party': u'Kulanu', 'label': 'Eli Cohen', 'n_bills': 35.0, 'photo': u'photos/Cohen_Eli1.jpg'}, '26': {'url': u'https://oknesset.org/member/911', 'party': u'Kulanu', 'label': 'Elie Elalouf', 'n_bills': 56.0, 'photo': u'photos/Alalouf_Eli.jpg'}, '27': {'url': u'https://oknesset.org/member/882', 'party': u'Zionist Union', 'label': 'Erel Margalit', 'n_bills': 67.0, 'photo': u'photos/Margalit_Erel.jpg'}, '20': {'url': u'https://oknesset.org/member/780', 'party': u'Joint List', 'label': 'Dov Khenin', 'n_bills': 454.0, 'photo': u'photos/khenin_dov.jpg'}, '21': {'url': u'https://oknesset.org/member/917', 'party': u'Zionist Union', 'label': 'Eitan Broshi', 'n_bills': 49.0, 'photo': u'photos/Broshi_Eitan.jpg'}, '22': {'url': u'https://oknesset.org/member/64', 'party': u'Zionist Union', 'label': 'Eitan Cabel', 'n_bills': 259.0, 'photo': u'photos/cabel_eitan.jpg'}, '23': {'url': u'https://oknesset.org/member/899', 'party': u'Yesh Atid', 'label': 'Elazar Stern', 'n_bills': 84.0, 'photo': u'photos/Stern_Eliezer.jpg'}, '28': {'url': u'https://oknesset.org/member/888', 'party': u'Meretz', 'label': 'Esawi   Frej', 'n_bills': 167.0, 'photo': u'photos/Farij_Issawi.jpg'}, '29': {'url': u'https://oknesset.org/member/916', 'party': u'Zionist Union', 'label': 'Eyal Ben-Reuven', 'n_bills': 62.0, 'photo': u'photos/Ben-Reuven_Eyal.jpg'}, '4': {'url': u'https://oknesset.org/member/948', 'party': u'Joint List', 'label': 'Aida Touma-Sliman', 'n_bills': 133.0, 'photo': u'photos/Touma-Sliman_Aida.jpg'}, '8': {'url': u'https://oknesset.org/member/41', 'party': u'Shas', 'label': 'Aryeh Machluf Deri', 'n_bills': 11.0, 'photo': u'photos/deri_aryeh.jpg'}, '59': {'url': u'https://oknesset.org/member/35', 'party': u'United Torah Judaism', 'label': 'Moshe Gafni', 'n_bills': 143.0, 'photo': u'photos/gafni_moshe.jpg'}, '58': {'url': u'https://oknesset.org/member/873', 'party': u'The Jewish Home', 'label': 'Mordhay Yogev', 'n_bills': 60.0, 'photo': u'photos/Yogev_Mordechai.jpg'}, '55': {'url': u'https://oknesset.org/member/896', 'party': u'Zionist Union', 'label': 'Micky Rosenthal', 'n_bills': 174.0, 'photo': u'photos/Rosenthal_Mickey.jpg'}, '54': {'url': u'https://oknesset.org/member/876', 'party': u'Yesh Atid', 'label': 'Mickey Levy', 'n_bills': 134.0, 'photo': u'photos/Levy_Mickey.jpg'}, '57': {'url': u'https://oknesset.org/member/831', 'party': u'Likud', 'label': 'Miri Regev', 'n_bills': 139.0, 'photo': u'photos/regev_miri.jpg'}, '56': {'url': u'https://oknesset.org/member/922', 'party': u'Likud', 'label': 'Miki Zohar', 'n_bills': 63.0, 'photo': u'photos/Zohar_Miki.jpg'}, '51': {'url': u'https://oknesset.org/member/910', 'party': u'Kulanu', 'label': 'Michael Oren', 'n_bills': 21.0, 'photo': u'photos/Oren_Michael.jpg'}, '50': {'url': u'https://oknesset.org/member/222', 'party': u'Shas', 'label': 'Meshulam Nahari', 'n_bills': 7.0, 'photo': u'photos/nahari_meshulam.jpg'}, '53': {'url': u'https://oknesset.org/member/895', 'party': u'Meretz', 'label': 'Michal Rozin', 'n_bills': 300.0, 'photo': u'photos/Rozin_Michal.jpg'}, '52': {'url': u'https://oknesset.org/member/862', 'party': u'Zionist Union', 'label': 'Michal Biran', 'n_bills': 92.0, 'photo': u'photos/Biran_Michal.jpg'}, '88': {'url': u'https://oknesset.org/member/887', 'party': u'Yesh Atid', 'label': 'Yaakov Perry', 'n_bills': 67.0, 'photo': u'photos/Peri_Yaakov.jpg'}, '89': {'url': u'https://oknesset.org/member/868', 'party': u'Yesh Atid', 'label': 'Yael German', 'n_bills': 62.0, 'photo': u'photos/German_Yael.jpg'}, '82': {'url': u'https://oknesset.org/member/871', 'party': u'Meretz', 'label': 'Tamar Zandberg', 'n_bills': 300.0, 'photo': u'photos/Zandberg_Tamar.jpg'}, '83': {'url': u'https://oknesset.org/member/45', 'party': u'Likud', 'label': 'Tzachi Hanegbi', 'n_bills': 1.0, 'photo': u'photos/hanegbi_tzahi.jpg'}, '80': {'url': u'https://oknesset.org/member/857', 'party': u'Joint List', 'label': 'Talab Abu Arar', 'n_bills': 24.0, 'photo': u'photos/AbuArar_Talab.jpg'}, '81': {'url': u'https://oknesset.org/member/942', 'party': u'Kulanu', 'label': 'Tali Ploskov', 'n_bills': 87.0, 'photo': u'photos/Ploskov_Tali.jpg'}, '86': {'url': u'https://oknesset.org/member/814', 'party': u'United Torah Judaism', 'label': 'Uri Maklev', 'n_bills': 167.0, 'photo': u'photos/uri_maklev.jpg'}, '87': {'url': u'https://oknesset.org/member/713', 'party': u'The Jewish Home', 'label': 'Uri Yehuda Ariel', 'n_bills': 22.0, 'photo': u'photos/ariel_uri-yehuda.jpg'}, '84': {'url': u'https://oknesset.org/member/825', 'party': u'Likud', 'label': 'Tzipi Hotovely', 'n_bills': 26.0, 'photo': u'photos/Hotovely_Tzipi.jpg'}, '85': {'url': u'https://oknesset.org/member/213', 'party': u'Zionist Union', 'label': 'Tzipi Livni', 'n_bills': 12.0, 'photo': u'photos/livnee_zipi.jpg'}, '3': {'url': u'https://oknesset.org/member/208', 'party': u'Joint List', 'label': 'Ahmad Tibi', 'n_bills': 78.0, 'photo': u'photos/tibi_ahmed.jpg'}, '7': {'url': u'https://oknesset.org/member/918', 'party': u'Likud', 'label': 'Anat Berko', 'n_bills': 42.0, 'photo': u'photos/Berko_Anat.jpg'}, '108': {'url': u'https://oknesset.org/member/201', 'party': u'Meretz', 'label': 'Zehava Galon', 'n_bills': 254.0, 'photo': u'photos/galon_zahava.jpg'}, '109': {'url': u'https://oknesset.org/member/913', 'party': u'Zionist Union', 'label': 'Zouheir Bahloul', 'n_bills': 54.0, 'photo': u'photos/Bahloul_Zuhair.jpg'}, '102': {'url': u'https://oknesset.org/member/897', 'party': u'Yesh Atid', 'label': 'Yoel Razvozov', 'n_bills': 73.0, 'photo': u'photos/Rozbozov_Yoel.jpg'}, '103': {'url': u'https://oknesset.org/member/926', 'party': u'Zionist Union', 'label': 'Yoseph Yonah', 'n_bills': 79.0, 'photo': u'photos/Yona_Yossi.jpg'}, '100': {'url': u'https://oknesset.org/member/945', 'party': u'Likud', 'label': 'Yoav Kisch', 'n_bills': 56.0, 'photo': u'photos/Kish_Yoav.jpg'}, '101': {'url': u'https://oknesset.org/member/772', 'party': u'Zionist Union', 'label': 'Yoel Hasson', 'n_bills': 112.0, 'photo': u'photos/hasson_yoel.jpg'}, '106': {'url': u'https://oknesset.org/member/14', 'party': u'Likud', 'label': 'Zeev Binyamin Begin', 'n_bills': 3.0, 'photo': u'photos/begin_beni.jpg'}, '107': {'url': u'https://oknesset.org/member/768', 'party': u'Likud', 'label': 'Zeev Elkin', 'n_bills': 9.0, 'photo': u'photos/elkin_zeev.jpg'}, '104': {'url': u'https://oknesset.org/member/919', 'party': u'Joint List', 'label': 'Yousef Jabareen', 'n_bills': 119.0, 'photo': u'photos/Jabareen_Yousef.jpg'}, '105': {'url': u'https://oknesset.org/member/1', 'party': u'Likud', 'label': 'Yuli-Yoel Edelstein', 'n_bills': 2.0, 'photo': u'photos/edelstein_yoel.jpg'}, '39': {'url': u'https://oknesset.org/member/929', 'party': u'Likud', 'label': 'Jackie Levy', 'n_bills': 6.0, 'photo': u'photos/Levy_Jackie.jpg'}, '38': {'url': u'https://oknesset.org/member/901', 'party': u'Zionist Union', 'label': 'Itzik Shmuli', 'n_bills': 197.0, 'photo': u'photos/Shmuli_Itzik.jpg'}, '33': {'url': u'https://oknesset.org/member/837', 'party': u'Yisrael Beiteinu', 'label': 'Hamad Amar', 'n_bills': 58.0, 'photo': u'photos/Amar_Hamad.jpg'}, '32': {'url': u'https://oknesset.org/member/212', 'party': u'Likud', 'label': 'Haim Katz', 'n_bills': 49.0, 'photo': u'photos/katz_haim.jpg'}, '31': {'url': u'https://oknesset.org/member/927', 'party': u'Yesh Atid', 'label': 'Haim Jelin', 'n_bills': 73.0, 'photo': u'photos/Yalin_Haim.jpg'}, '30': {'url': u'https://oknesset.org/member/723', 'party': u'Likud', 'label': 'Gila Gamliel', 'n_bills': 52.0, 'photo': u'photos/gamliel_gila.jpg'}, '37': {'url': u'https://oknesset.org/member/754', 'party': u'United Torah Judaism', 'label': 'Israel Eichler', 'n_bills': 47.0, 'photo': u'photos/eichler_israel.jpg'}, '36': {'url': u'https://oknesset.org/member/740', 'party': u'Zionist Union', 'label': 'Isaac Herzog', 'n_bills': 49.0, 'photo': u'photos/herzog_yitzhak.jpg'}, '35': {'url': u'https://oknesset.org/member/200', 'party': u'Meretz', 'label': 'Ilan Gilon', 'n_bills': 258.0, 'photo': u'photos/gilon_ilan.jpg'}, '34': {'url': u'https://oknesset.org/member/846', 'party': u'Joint List', 'label': 'Hanin Zoabi', 'n_bills': 45.0, 'photo': u'photos/Zuabi_Hanin.jpg'}, '60': {'url': u'https://oknesset.org/member/818', 'party': u'Zionist Union', 'label': 'Nachman Shai', 'n_bills': 176.0, 'photo': u'photos/nachman_shai.jpg'}, '61': {'url': u'https://oknesset.org/member/943', 'party': u'Likud', 'label': 'Nava Boker', 'n_bills': 41.0, 'photo': u'photos/Boker_Nava.jpg'}, '62': {'url': u'https://oknesset.org/member/92', 'party': u'The Jewish Home', 'label': 'Nissan Slomiansky', 'n_bills': 27.0, 'photo': u'photos/slomiansky_nisan.jpg'}, '63': {'url': u'https://oknesset.org/member/944', 'party': u'Likud', 'label': 'Nurit Koren', 'n_bills': 60.0, 'photo': u'photos/Koren_Nurit.jpg'}, '64': {'url': u'https://oknesset.org/member/951', 'party': u'Yisrael Beiteinu', 'label': 'Oded Forer', 'n_bills': 1.0, 'photo': u'photos/forer_oded.jpg'}, '65': {'url': u'https://oknesset.org/member/900', 'party': u'Yesh Atid', 'label': 'Ofer Shelah', 'n_bills': 80.0, 'photo': u'photos/Shelach_Ofer.jpg'}, '66': {'url': u'https://oknesset.org/member/830', 'party': u'Likud', 'label': 'Ofir Akunis', 'n_bills': 7.0, 'photo': u'photos/akunis_ofir.jpg'}, '67': {'url': u'https://oknesset.org/member/866', 'party': u'Zionist Union', 'label': 'Omer Barlev', 'n_bills': 104.0, 'photo': u'photos/BarLev_Omer.jpg'}, '68': {'url': u'https://oknesset.org/member/924', 'party': u'Likud', 'label': 'Oren Asaf Hazan', 'n_bills': 52.0, 'photo': u'photos/Hazan_Oren.jpg'}, '69': {'url': u'https://oknesset.org/member/832', 'party': u'Yisrael Beiteinu', 'label': 'Orly Levi-Abekasis', 'n_bills': 158.0, 'photo': u'photos/Levy_Orli.jpg'}, '2': {'url': u'https://oknesset.org/member/909', 'party': u'Joint List', 'label': 'Abdullah Abu Maaruf', 'n_bills': 152.0, 'photo': u'photos/Abu-Maaruf_Abdullah.jpg'}, '6': {'url': u'https://oknesset.org/member/105', 'party': u'Zionist Union', 'label': 'Amir Peretz', 'n_bills': 30.0, 'photo': u'photos/peretz_amir.jpg'}, '99': {'url': u'https://oknesset.org/member/906', 'party': u'Shas', 'label': 'Yoav Ben-Tzur', 'n_bills': 76.0, 'photo': u'photos/Yoav_Ben_Tzur.jpg'}, '98': {'url': u'https://oknesset.org/member/50', 'party': u'Shas', 'label': 'Yitzhak Vaknin', 'n_bills': 62.0, 'photo': u'photos/vaknin_yizhak.jpg'}, '91': {'url': u'https://oknesset.org/member/216', 'party': u'United Torah Judaism', 'label': 'Yakov Litzman', 'n_bills': 13.0, 'photo': u'photos/lizman_yaakov.jpg'}, '90': {'url': u'https://oknesset.org/member/878', 'party': u'Yesh Atid', 'label': 'Yair Lapid', 'n_bills': 21.0, 'photo': u'photos/Lapid_Yair.jpg'}, '93': {'url': u'https://oknesset.org/member/826', 'party': u'Likud', 'label': 'Yariv Levin', 'n_bills': 82.0, 'photo': u'photos/levin_yariv.jpg'}, '92': {'url': u'https://oknesset.org/member/751', 'party': u'Shas', 'label': 'Yakov Margi', 'n_bills': 114.0, 'photo': u'photos/margi_yaakov.jpg'}, '95': {'url': u'https://oknesset.org/member/865', 'party': u'Zionist Union', 'label': 'Yehiel Hilik Bar', 'n_bills': 127.0, 'photo': u'photos/Bar_Yechiel.jpg'}, '94': {'url': u'https://oknesset.org/member/931', 'party': u'Likud', 'label': 'Yaron Mazuz', 'n_bills': 3.0, 'photo': u'photos/mazuz_yaron.jpg'}, '97': {'url': u'https://oknesset.org/member/65', 'party': u'Shas', 'label': 'Yitzhak Cohen', 'n_bills': 12.0, 'photo': u'photos/cohen_yitzhak.jpg'}, '96': {'url': u'https://oknesset.org/member/946', 'party': u'Kulanu', 'label': 'Yifat Shasha-Biton', 'n_bills': 66.0, 'photo': u'photos/Shasha-Biton_Yifat.jpg'}, '11': {'url': u'https://oknesset.org/member/932', 'party': u'Likud', 'label': 'Avraham Naguisa', 'n_bills': 59.0, 'photo': u'photos/Nagosa_Avraham.jpg'}, '10': {'url': u'https://oknesset.org/member/214', 'party': u'Yisrael Beiteinu', 'label': 'Avigdor Liberman', 'n_bills': 12.0, 'photo': u'photos/liberman_avigdor.jpg'}, '13': {'url': u'https://oknesset.org/member/904', 'party': u'The Jewish Home', 'label': 'Ayelet Shaked', 'n_bills': 40.0, 'photo': u'photos/Shaked_Ayelet.jpg'}, '12': {'url': u'https://oknesset.org/member/933', 'party': u'Zionist Union', 'label': 'Ayelet Nahmias-Verbin', 'n_bills': 84.0, 'photo': u'photos/Nahmias-Verbin_Ayelet.jpg'}, '15': {'url': u'https://oknesset.org/member/867', 'party': u'Joint List', 'label': 'Basel Ghattas', 'n_bills': 52.0, 'photo': u'photos/Jitas_Basil.jpg'}, '14': {'url': u'https://oknesset.org/member/938', 'party': u'Joint List', 'label': 'Ayman Udeh', 'n_bills': 135.0, 'photo': u'photos/Uda_Aiman.jpg'}, '17': {'url': u'https://oknesset.org/member/912', 'party': u'Likud', 'label': 'David Amsalem', 'n_bills': 36.0, 'photo': u'photos/Amsalem_David.jpg'}, '16': {'url': u'https://oknesset.org/member/936', 'party': u'The Jewish Home', 'label': 'Bezalel Smotrich', 'n_bills': 49.0, 'photo': u'photos/Smotrich_Bezalel.jpg'}, '19': {'url': u'https://oknesset.org/member/914', 'party': u'Likud', 'label': 'David Bitan', 'n_bills': 55.0, 'photo': u'photos/Bitan_David.jpg'}, '18': {'url': u'https://oknesset.org/member/7', 'party': u'Shas', 'label': 'David Azoulay', 'n_bills': 53.0, 'photo': u'photos/azoulay_david.jpg'}, '48': {'url': u'https://oknesset.org/member/915', 'party': u'Kulanu', 'label': 'Merav Ben Ari', 'n_bills': 106.0, 'photo': u'photos/BenAri_Merav.jpg'}, '49': {'url': u'https://oknesset.org/member/881', 'party': u'Zionist Union', 'label': 'Merav Michaeli', 'n_bills': 195.0, 'photo': u'photos/Michaeli_Meirav.jpg'}, '46': {'url': u'https://oknesset.org/member/103', 'party': u'United Torah Judaism', 'label': 'Meir Porush', 'n_bills': 16.0, 'photo': u'photos/porush_meir.jpg'}, '47': {'url': u'https://oknesset.org/member/839', 'party': u'United Torah Judaism', 'label': 'Menachem Eliezer Moses', 'n_bills': 52.0, 'photo': u'photos/moses_menachem.jpg'}, '44': {'url': u'https://oknesset.org/member/844', 'party': u'Joint List', 'label': 'Masud Ganaim', 'n_bills': 51.0, 'photo': u'photos/Ganaim_Masud.jpg'}, '45': {'url': u'https://oknesset.org/member/874', 'party': u'Yesh Atid', 'label': 'Meir Cohen', 'n_bills': 59.0, 'photo': u'photos/cohen_meir1.jpg'}, '42': {'url': u'https://oknesset.org/member/934', 'party': u'Zionist Union', 'label': 'Ksenia Svetlova', 'n_bills': 67.0, 'photo': u'photos/Svetlova_Ksenia.jpg'}, '43': {'url': u'https://oknesset.org/member/925', 'party': u'Zionist Union', 'label': 'Manuel Trajtenberg', 'n_bills': 41.0, 'photo': u'photos/Trajtenberg_Manuel.jpg'}, '40': {'url': u'https://oknesset.org/member/756', 'party': u'Joint List', 'label': 'Jamal Zahalka', 'n_bills': 43.0, 'photo': u'photos/zahalka_jamal.jpg'}, '41': {'url': u'https://oknesset.org/member/860', 'party': u'Yesh Atid', 'label': 'Karin Elharrar', 'n_bills': 141.0, 'photo': u'photos/Alharar_Karin.jpg'}, '1': {'url': u'https://oknesset.org/member/923', 'party': u'Joint List', 'label': 'Abd Al Hakeem Haj Yahya', 'n_bills': 37.0, 'photo': u'photos/Haj-Yahya_Abd-Al-Hakeem.jpg'}, '5': {'url': u'https://oknesset.org/member/875', 'party': u'Yesh Atid', 'label': 'Aliza Lavie', 'n_bills': 112.0, 'photo': u'photos/Lavie_Aliza.jpg'}, '9': {'url': u'https://oknesset.org/member/771', 'party': u'Likud', 'label': 'Avi Dichter', 'n_bills': 23.0, 'photo': u'photos/dicter_abraham.jpg'}, '77': {'url': u'https://oknesset.org/member/879', 'party': u'The Jewish Home', 'label': 'Shuli Moalem-Refaeli', 'n_bills': 69.0, 'photo': u'photos/Moalem_Shuli.jpg'}, '76': {'url': u'https://oknesset.org/member/782', 'party': u'Zionist Union', 'label': 'Shelly Yachimovich', 'n_bills': 155.0, 'photo': u'photos/yacimovich_shelly.jpg'}, '75': {'url': u'https://oknesset.org/member/950', 'party': u'Likud', 'label': 'Sharren  Haskel', 'n_bills': 3.0, 'photo': u'photos/sharren_haskel.jpg'}, '74': {'url': u'https://oknesset.org/member/941', 'party': u'Kulanu', 'label': 'Roy Folkman', 'n_bills': 77.0, 'photo': u'photos/Folkman_Roy.jpg'}, '73': {'url': u'https://oknesset.org/member/793', 'party': u'Yisrael Beiteinu', 'label': 'Robert Ilatov', 'n_bills': 100.0, 'photo': u'photos/ilatov_robert.jpg'}, '72': {'url': u'https://oknesset.org/member/935', 'party': u'Zionist Union', 'label': 'Revital Swid', 'n_bills': 37.0, 'photo': u'photos/Swid_Revital.jpg'}, '71': {'url': u'https://oknesset.org/member/939', 'party': u'Kulanu', 'label': 'Rachel Azaria', 'n_bills': 28.0, 'photo': u'photos/Azaria_Rachel.jpg'}, '70': {'url': u'https://oknesset.org/member/937', 'party': u'Joint List', 'label': 'Osama Saadi', 'n_bills': 71.0, 'photo': u'photos/Saadi_Osama.jpg'}, '79': {'url': u'https://oknesset.org/member/903', 'party': u'Zionist Union', 'label': 'Stav Shafir', 'n_bills': 95.0, 'photo': u'photos/Shafir_Stav.jpg'}, '78': {'url': u'https://oknesset.org/member/78', 'party': u'Yisrael Beiteinu', 'label': 'Sofa Landver', 'n_bills': 51.0, 'photo': u'photos/landver_sofa.jpg'}})"
      ]
     },
     "execution_count": 90,
     "metadata": {},
     "output_type": "execute_result"
    }
   ],
   "source": [
    "graph = nx.read_gexf('net_il2015-2018.gexf')\n",
    "graph.nodes(data=True)\n"
   ]
  },
  {
   "cell_type": "code",
   "execution_count": 23,
   "metadata": {},
   "outputs": [],
   "source": [
    "# Number of nodes before filtering:"
   ]
  },
  {
   "cell_type": "code",
   "execution_count": 98,
   "metadata": {},
   "outputs": [
    {
     "data": {
      "text/plain": [
       "109"
      ]
     },
     "execution_count": 98,
     "metadata": {},
     "output_type": "execute_result"
    }
   ],
   "source": [
    "len(graph.nodes())"
   ]
  },
  {
   "cell_type": "markdown",
   "metadata": {},
   "source": [
    "Number of edges before filtering:"
   ]
  },
  {
   "cell_type": "code",
   "execution_count": 97,
   "metadata": {},
   "outputs": [
    {
     "data": {
      "text/plain": [
       "807"
      ]
     },
     "execution_count": 97,
     "metadata": {},
     "output_type": "execute_result"
    }
   ],
   "source": [
    "len(graph.edges())"
   ]
  },
  {
   "cell_type": "markdown",
   "metadata": {},
   "source": [
    "Number of edges after filtering:"
   ]
  },
  {
   "cell_type": "code",
   "execution_count": 93,
   "metadata": {},
   "outputs": [],
   "source": [
    "edges = [edge for edge in graph.edges(data=True) if(edge[2]['weight'] > 2)]"
   ]
  },
  {
   "cell_type": "code",
   "execution_count": 94,
   "metadata": {
    "scrolled": true
   },
   "outputs": [
    {
     "data": {
      "text/plain": [
       "807"
      ]
     },
     "execution_count": 94,
     "metadata": {},
     "output_type": "execute_result"
    }
   ],
   "source": [
    "# graph.edges = edges\n",
    "len(edges)"
   ]
  },
  {
   "cell_type": "markdown",
   "metadata": {},
   "source": [
    "Number of nodes after filtering:"
   ]
  },
  {
   "cell_type": "code",
   "execution_count": 95,
   "metadata": {},
   "outputs": [
    {
     "data": {
      "text/plain": [
       "109"
      ]
     },
     "execution_count": 95,
     "metadata": {},
     "output_type": "execute_result"
    }
   ],
   "source": [
    "selected_nodes = set()\n",
    "for edge in edges:\n",
    "    selected_nodes.add(edge[0])\n",
    "    selected_nodes.add(edge[1])\n",
    "# len(selected_nodes)\n",
    "len(graph.nodes())"
   ]
  },
  {
   "cell_type": "code",
   "execution_count": 96,
   "metadata": {},
   "outputs": [
    {
     "name": "stdout",
     "output_type": "stream",
     "text": [
      "109\n"
     ]
    }
   ],
   "source": [
    "#graph = graph.subgraph(selected_nodes)\n",
    "all_node = set()\n",
    "for n in graph.node():\n",
    "    all_node.add(n)\n",
    "\n",
    "\n",
    "graph.clear()\n",
    "for i in edges:\n",
    "    u = i[0]\n",
    "    v = i[1]\n",
    "    if u not in graph.nodes():\n",
    "        graph.add_node(u)\n",
    "    if v not in graph.nodes():\n",
    "        graph.add_node(v)\n",
    "    graph.add_edge(u, v, id=i[2]['id'], weight=i[2]['weight'])\n",
    "for n in all_node:\n",
    "    if n not in graph.node():\n",
    "        graph.add_node(n)\n",
    "print(len(graph.node()))"
   ]
  },
  {
   "cell_type": "code",
   "execution_count": null,
   "metadata": {},
   "outputs": [],
   "source": [
    "nx.density(graph)"
   ]
  },
  {
   "cell_type": "code",
   "execution_count": null,
   "metadata": {},
   "outputs": [],
   "source": [
    "# nx.diameter(graph)"
   ]
  },
  {
   "cell_type": "code",
   "execution_count": null,
   "metadata": {},
   "outputs": [],
   "source": [
    "nx.clustering(graph, weight='weight')"
   ]
  },
  {
   "cell_type": "markdown",
   "metadata": {},
   "source": [
    "Degree:"
   ]
  },
  {
   "cell_type": "code",
   "execution_count": null,
   "metadata": {},
   "outputs": [],
   "source": [
    "degree = nx.degree(graph)\n",
    "[str(graph.nodes[node[0]]['label']) + ' degree is: ' + str(degree[node[0]]) for node in sorted(graph.degree(), key=lambda x:x[1], reverse=True)[:10][:10]]"
   ]
  },
  {
   "cell_type": "markdown",
   "metadata": {},
   "source": [
    "Centrality:"
   ]
  },
  {
   "cell_type": "code",
   "execution_count": null,
   "metadata": {
    "scrolled": true
   },
   "outputs": [],
   "source": [
    "degree_centrality = nx.degree_centrality(graph)\n",
    "[str(graph.nodes[node[0]]['label']) + ' centrality is: ' + str(degree_centrality[node[0]]) for node in sorted(degree_centrality.items(), key=lambda x:x[1], reverse=True)[:10]]"
   ]
  },
  {
   "cell_type": "markdown",
   "metadata": {},
   "source": [
    "Closeness:"
   ]
  },
  {
   "cell_type": "code",
   "execution_count": null,
   "metadata": {},
   "outputs": [],
   "source": [
    "closeness_centrality = nx.closeness_centrality(graph)\n",
    "[str(graph.nodes[node[0]]['label']) + ' closeness is: ' + str(closeness_centrality[node[0]]) for node in sorted(closeness_centrality.items(), key=lambda x:x[1], reverse=True)[:10]]"
   ]
  },
  {
   "cell_type": "code",
   "execution_count": null,
   "metadata": {},
   "outputs": [],
   "source": [
    "eigenvector_centrality = nx.eigenvector_centrality_numpy(graph)"
   ]
  },
  {
   "cell_type": "code",
   "execution_count": null,
   "metadata": {},
   "outputs": [],
   "source": [
    "[str(graph.nodes[node[0]]['label']) + ' eigenvector centrality is: ' + str(eigenvector_centrality[node[0]]) for node in sorted(eigenvector_centrality.items(), key=lambda x:x[1], reverse=True)[:10]]"
   ]
  },
  {
   "cell_type": "code",
   "execution_count": 10,
   "metadata": {},
   "outputs": [
    {
     "ename": "NameError",
     "evalue": "name 'eigenvector_centrality' is not defined",
     "output_type": "error",
     "traceback": [
      "\u001b[1;31m---------------------------------------------------------------------------\u001b[0m",
      "\u001b[1;31mNameError\u001b[0m                                 Traceback (most recent call last)",
      "\u001b[1;32m<ipython-input-10-9f91b464be88>\u001b[0m in \u001b[0;36m<module>\u001b[1;34m()\u001b[0m\n\u001b[0;32m      1\u001b[0m \u001b[1;31m# compute eigenvector centrality - normalized\u001b[0m\u001b[1;33m\u001b[0m\u001b[1;33m\u001b[0m\u001b[0m\n\u001b[0;32m      2\u001b[0m \u001b[1;33m\u001b[0m\u001b[0m\n\u001b[1;32m----> 3\u001b[1;33m \u001b[0mmax_value\u001b[0m \u001b[1;33m=\u001b[0m \u001b[0mmax\u001b[0m\u001b[1;33m(\u001b[0m\u001b[0meigenvector_centrality\u001b[0m\u001b[1;33m.\u001b[0m\u001b[0mitems\u001b[0m\u001b[1;33m(\u001b[0m\u001b[1;33m)\u001b[0m\u001b[1;33m,\u001b[0m \u001b[0mkey\u001b[0m\u001b[1;33m=\u001b[0m\u001b[1;32mlambda\u001b[0m \u001b[0mx\u001b[0m\u001b[1;33m:\u001b[0m \u001b[0mx\u001b[0m\u001b[1;33m[\u001b[0m\u001b[1;36m1\u001b[0m\u001b[1;33m]\u001b[0m\u001b[1;33m)\u001b[0m\u001b[1;33m\u001b[0m\u001b[0m\n\u001b[0m\u001b[0;32m      4\u001b[0m \u001b[1;33m\u001b[0m\u001b[0m\n\u001b[0;32m      5\u001b[0m \u001b[0mec_scaled\u001b[0m \u001b[1;33m=\u001b[0m \u001b[1;33m{\u001b[0m\u001b[1;33m}\u001b[0m\u001b[1;33m\u001b[0m\u001b[0m\n",
      "\u001b[1;31mNameError\u001b[0m: name 'eigenvector_centrality' is not defined"
     ]
    }
   ],
   "source": [
    "# compute eigenvector centrality - normalized\n",
    "\n",
    "max_value = max(eigenvector_centrality.items(), key=lambda x: x[1])\n",
    "\n",
    "ec_scaled = {}\n",
    "for k in eigenvector_centrality.keys():\n",
    "    ec_scaled[k] = max (eigenvector_centrality[k] / max_value[1],0.0)\n",
    "\n",
    "# Scaled by the most central character (karev)\n",
    "[str(graph.nodes[node[0]]['label']) + ' normalized eigenvector centrality is: ' + str(degree_centrality[node[0]]) for node in sorted(ec_scaled.items(), key=lambda x:x[1], reverse=True)[:10]]"
   ]
  },
  {
   "cell_type": "markdown",
   "metadata": {},
   "source": [
    "Community detection:"
   ]
  },
  {
   "cell_type": "code",
   "execution_count": null,
   "metadata": {},
   "outputs": [],
   "source": [
    "from networkx.algorithms.community import girvan_newman\n",
    "\n",
    "gn_comm = girvan_newman(graph)\n",
    "for i in range(0,4):\n",
    "    current = enumerate (tuple(sorted(c) for c in next(gn_comm)))\n",
    "    membership = dict()\n",
    "    for commId,members in current:\n",
    "        for m in members:\n",
    "            membership[m]=commId\n",
    "    nx.set_node_attributes(graph, membership, 'partition_'+str(i))"
   ]
  },
  {
   "cell_type": "code",
   "execution_count": null,
   "metadata": {},
   "outputs": [],
   "source": [
    "list(graph.nodes(data=True))[:2]"
   ]
  },
  {
   "cell_type": "code",
   "execution_count": null,
   "metadata": {},
   "outputs": [],
   "source": [
    "# Need to check that\n",
    "nodes = list(graph.nodes(data=True))\n",
    "\n",
    "for node in nodes:\n",
    "    if node[1]['partition_3'] == 0:\n",
    "        print(node[1]['party'])"
   ]
  },
  {
   "cell_type": "markdown",
   "metadata": {},
   "source": [
    "Link prediction:"
   ]
  }
 ],
 "metadata": {
  "kernelspec": {
   "display_name": "Python 2",
   "language": "python",
   "name": "python2"
  },
  "language_info": {
   "codemirror_mode": {
    "name": "ipython",
    "version": 2
   },
   "file_extension": ".py",
   "mimetype": "text/x-python",
   "name": "python",
   "nbconvert_exporter": "python",
   "pygments_lexer": "ipython2",
   "version": "2.7.16"
  }
 },
 "nbformat": 4,
 "nbformat_minor": 2
}
