{
 "cells": [
  {
   "cell_type": "code",
   "execution_count": 15,
   "metadata": {},
   "outputs": [],
   "source": [
    "import networkx as nx\n",
    "from collections import Counter\n",
    "import pandas as pd\n",
    "import numpy as np\n",
    "import matplotlib.pyplot as plt\n",
    "%matplotlib inline"
   ]
  },
  {
   "cell_type": "code",
   "execution_count": 16,
   "metadata": {},
   "outputs": [
    {
     "data": {
      "text/plain": [
       "NodeDataView({'1': {'url': 'https://oknesset.org/member/923', 'party': 'Joint List', 'n_bills': 37.0, 'photo': 'photos/Haj-Yahya_Abd-Al-Hakeem.jpg', 'label': 'Abd Al Hakeem Haj Yahya'}, '2': {'url': 'https://oknesset.org/member/909', 'party': 'Joint List', 'n_bills': 152.0, 'photo': 'photos/Abu-Maaruf_Abdullah.jpg', 'label': 'Abdullah Abu Maaruf'}, '3': {'url': 'https://oknesset.org/member/208', 'party': 'Joint List', 'n_bills': 78.0, 'photo': 'photos/tibi_ahmed.jpg', 'label': 'Ahmad Tibi'}, '4': {'url': 'https://oknesset.org/member/948', 'party': 'Joint List', 'n_bills': 133.0, 'photo': 'photos/Touma-Sliman_Aida.jpg', 'label': 'Aida Touma-Sliman'}, '5': {'url': 'https://oknesset.org/member/875', 'party': 'Yesh Atid', 'n_bills': 112.0, 'photo': 'photos/Lavie_Aliza.jpg', 'label': 'Aliza Lavie'}, '6': {'url': 'https://oknesset.org/member/105', 'party': 'Zionist Union', 'n_bills': 30.0, 'photo': 'photos/peretz_amir.jpg', 'label': 'Amir Peretz'}, '7': {'url': 'https://oknesset.org/member/918', 'party': 'Likud', 'n_bills': 42.0, 'photo': 'photos/Berko_Anat.jpg', 'label': 'Anat Berko'}, '8': {'url': 'https://oknesset.org/member/41', 'party': 'Shas', 'n_bills': 11.0, 'photo': 'photos/deri_aryeh.jpg', 'label': 'Aryeh Machluf Deri'}, '9': {'url': 'https://oknesset.org/member/771', 'party': 'Likud', 'n_bills': 23.0, 'photo': 'photos/dicter_abraham.jpg', 'label': 'Avi Dichter'}, '10': {'url': 'https://oknesset.org/member/214', 'party': 'Yisrael Beiteinu', 'n_bills': 12.0, 'photo': 'photos/liberman_avigdor.jpg', 'label': 'Avigdor Liberman'}, '11': {'url': 'https://oknesset.org/member/932', 'party': 'Likud', 'n_bills': 59.0, 'photo': 'photos/Nagosa_Avraham.jpg', 'label': 'Avraham Naguisa'}, '12': {'url': 'https://oknesset.org/member/933', 'party': 'Zionist Union', 'n_bills': 84.0, 'photo': 'photos/Nahmias-Verbin_Ayelet.jpg', 'label': 'Ayelet Nahmias-Verbin'}, '13': {'url': 'https://oknesset.org/member/904', 'party': 'The Jewish Home', 'n_bills': 40.0, 'photo': 'photos/Shaked_Ayelet.jpg', 'label': 'Ayelet Shaked'}, '14': {'url': 'https://oknesset.org/member/938', 'party': 'Joint List', 'n_bills': 135.0, 'photo': 'photos/Uda_Aiman.jpg', 'label': 'Ayman Udeh'}, '15': {'url': 'https://oknesset.org/member/867', 'party': 'Joint List', 'n_bills': 52.0, 'photo': 'photos/Jitas_Basil.jpg', 'label': 'Basel Ghattas'}, '16': {'url': 'https://oknesset.org/member/936', 'party': 'The Jewish Home', 'n_bills': 49.0, 'photo': 'photos/Smotrich_Bezalel.jpg', 'label': 'Bezalel Smotrich'}, '17': {'url': 'https://oknesset.org/member/912', 'party': 'Likud', 'n_bills': 36.0, 'photo': 'photos/Amsalem_David.jpg', 'label': 'David Amsalem'}, '18': {'url': 'https://oknesset.org/member/7', 'party': 'Shas', 'n_bills': 53.0, 'photo': 'photos/azoulay_david.jpg', 'label': 'David Azoulay'}, '19': {'url': 'https://oknesset.org/member/914', 'party': 'Likud', 'n_bills': 55.0, 'photo': 'photos/Bitan_David.jpg', 'label': 'David Bitan'}, '20': {'url': 'https://oknesset.org/member/780', 'party': 'Joint List', 'n_bills': 454.0, 'photo': 'photos/khenin_dov.jpg', 'label': 'Dov Khenin'}, '21': {'url': 'https://oknesset.org/member/917', 'party': 'Zionist Union', 'n_bills': 49.0, 'photo': 'photos/Broshi_Eitan.jpg', 'label': 'Eitan Broshi'}, '22': {'url': 'https://oknesset.org/member/64', 'party': 'Zionist Union', 'n_bills': 259.0, 'photo': 'photos/cabel_eitan.jpg', 'label': 'Eitan Cabel'}, '23': {'url': 'https://oknesset.org/member/899', 'party': 'Yesh Atid', 'n_bills': 84.0, 'photo': 'photos/Stern_Eliezer.jpg', 'label': 'Elazar Stern'}, '24': {'url': 'https://oknesset.org/member/863', 'party': 'The Jewish Home', 'n_bills': 3.0, 'photo': 'photos/BenDahan_Eliahu.jpg', 'label': 'Eli Ben-Dahan'}, '25': {'url': 'https://oknesset.org/member/928', 'party': 'Kulanu', 'n_bills': 35.0, 'photo': 'photos/Cohen_Eli1.jpg', 'label': 'Eli Cohen'}, '26': {'url': 'https://oknesset.org/member/911', 'party': 'Kulanu', 'n_bills': 56.0, 'photo': 'photos/Alalouf_Eli.jpg', 'label': 'Elie Elalouf'}, '27': {'url': 'https://oknesset.org/member/882', 'party': 'Zionist Union', 'n_bills': 67.0, 'photo': 'photos/Margalit_Erel.jpg', 'label': 'Erel Margalit'}, '28': {'url': 'https://oknesset.org/member/888', 'party': 'Meretz', 'n_bills': 167.0, 'photo': 'photos/Farij_Issawi.jpg', 'label': 'Esawi   Frej'}, '29': {'url': 'https://oknesset.org/member/916', 'party': 'Zionist Union', 'n_bills': 62.0, 'photo': 'photos/Ben-Reuven_Eyal.jpg', 'label': 'Eyal Ben-Reuven'}, '30': {'url': 'https://oknesset.org/member/723', 'party': 'Likud', 'n_bills': 52.0, 'photo': 'photos/gamliel_gila.jpg', 'label': 'Gila Gamliel'}, '31': {'url': 'https://oknesset.org/member/927', 'party': 'Yesh Atid', 'n_bills': 73.0, 'photo': 'photos/Yalin_Haim.jpg', 'label': 'Haim Jelin'}, '32': {'url': 'https://oknesset.org/member/212', 'party': 'Likud', 'n_bills': 49.0, 'photo': 'photos/katz_haim.jpg', 'label': 'Haim Katz'}, '33': {'url': 'https://oknesset.org/member/837', 'party': 'Yisrael Beiteinu', 'n_bills': 58.0, 'photo': 'photos/Amar_Hamad.jpg', 'label': 'Hamad Amar'}, '34': {'url': 'https://oknesset.org/member/846', 'party': 'Joint List', 'n_bills': 45.0, 'photo': 'photos/Zuabi_Hanin.jpg', 'label': 'Hanin Zoabi'}, '35': {'url': 'https://oknesset.org/member/200', 'party': 'Meretz', 'n_bills': 258.0, 'photo': 'photos/gilon_ilan.jpg', 'label': 'Ilan Gilon'}, '36': {'url': 'https://oknesset.org/member/740', 'party': 'Zionist Union', 'n_bills': 49.0, 'photo': 'photos/herzog_yitzhak.jpg', 'label': 'Isaac Herzog'}, '37': {'url': 'https://oknesset.org/member/754', 'party': 'United Torah Judaism', 'n_bills': 47.0, 'photo': 'photos/eichler_israel.jpg', 'label': 'Israel Eichler'}, '38': {'url': 'https://oknesset.org/member/901', 'party': 'Zionist Union', 'n_bills': 197.0, 'photo': 'photos/Shmuli_Itzik.jpg', 'label': 'Itzik Shmuli'}, '39': {'url': 'https://oknesset.org/member/929', 'party': 'Likud', 'n_bills': 6.0, 'photo': 'photos/Levy_Jackie.jpg', 'label': 'Jackie Levy'}, '40': {'url': 'https://oknesset.org/member/756', 'party': 'Joint List', 'n_bills': 43.0, 'photo': 'photos/zahalka_jamal.jpg', 'label': 'Jamal Zahalka'}, '41': {'url': 'https://oknesset.org/member/860', 'party': 'Yesh Atid', 'n_bills': 141.0, 'photo': 'photos/Alharar_Karin.jpg', 'label': 'Karin Elharrar'}, '42': {'url': 'https://oknesset.org/member/934', 'party': 'Zionist Union', 'n_bills': 67.0, 'photo': 'photos/Svetlova_Ksenia.jpg', 'label': 'Ksenia Svetlova'}, '43': {'url': 'https://oknesset.org/member/925', 'party': 'Zionist Union', 'n_bills': 41.0, 'photo': 'photos/Trajtenberg_Manuel.jpg', 'label': 'Manuel Trajtenberg'}, '44': {'url': 'https://oknesset.org/member/844', 'party': 'Joint List', 'n_bills': 51.0, 'photo': 'photos/Ganaim_Masud.jpg', 'label': 'Masud Ganaim'}, '45': {'url': 'https://oknesset.org/member/874', 'party': 'Yesh Atid', 'n_bills': 59.0, 'photo': 'photos/cohen_meir1.jpg', 'label': 'Meir Cohen'}, '46': {'url': 'https://oknesset.org/member/103', 'party': 'United Torah Judaism', 'n_bills': 16.0, 'photo': 'photos/porush_meir.jpg', 'label': 'Meir Porush'}, '47': {'url': 'https://oknesset.org/member/839', 'party': 'United Torah Judaism', 'n_bills': 52.0, 'photo': 'photos/moses_menachem.jpg', 'label': 'Menachem Eliezer Moses'}, '48': {'url': 'https://oknesset.org/member/915', 'party': 'Kulanu', 'n_bills': 106.0, 'photo': 'photos/BenAri_Merav.jpg', 'label': 'Merav Ben Ari'}, '49': {'url': 'https://oknesset.org/member/881', 'party': 'Zionist Union', 'n_bills': 195.0, 'photo': 'photos/Michaeli_Meirav.jpg', 'label': 'Merav Michaeli'}, '50': {'url': 'https://oknesset.org/member/222', 'party': 'Shas', 'n_bills': 7.0, 'photo': 'photos/nahari_meshulam.jpg', 'label': 'Meshulam Nahari'}, '51': {'url': 'https://oknesset.org/member/910', 'party': 'Kulanu', 'n_bills': 21.0, 'photo': 'photos/Oren_Michael.jpg', 'label': 'Michael Oren'}, '52': {'url': 'https://oknesset.org/member/862', 'party': 'Zionist Union', 'n_bills': 92.0, 'photo': 'photos/Biran_Michal.jpg', 'label': 'Michal Biran'}, '53': {'url': 'https://oknesset.org/member/895', 'party': 'Meretz', 'n_bills': 300.0, 'photo': 'photos/Rozin_Michal.jpg', 'label': 'Michal Rozin'}, '54': {'url': 'https://oknesset.org/member/876', 'party': 'Yesh Atid', 'n_bills': 134.0, 'photo': 'photos/Levy_Mickey.jpg', 'label': 'Mickey Levy'}, '55': {'url': 'https://oknesset.org/member/896', 'party': 'Zionist Union', 'n_bills': 174.0, 'photo': 'photos/Rosenthal_Mickey.jpg', 'label': 'Micky Rosenthal'}, '56': {'url': 'https://oknesset.org/member/922', 'party': 'Likud', 'n_bills': 63.0, 'photo': 'photos/Zohar_Miki.jpg', 'label': 'Miki Zohar'}, '57': {'url': 'https://oknesset.org/member/831', 'party': 'Likud', 'n_bills': 139.0, 'photo': 'photos/regev_miri.jpg', 'label': 'Miri Regev'}, '58': {'url': 'https://oknesset.org/member/873', 'party': 'The Jewish Home', 'n_bills': 60.0, 'photo': 'photos/Yogev_Mordechai.jpg', 'label': 'Mordhay Yogev'}, '59': {'url': 'https://oknesset.org/member/35', 'party': 'United Torah Judaism', 'n_bills': 143.0, 'photo': 'photos/gafni_moshe.jpg', 'label': 'Moshe Gafni'}, '60': {'url': 'https://oknesset.org/member/818', 'party': 'Zionist Union', 'n_bills': 176.0, 'photo': 'photos/nachman_shai.jpg', 'label': 'Nachman Shai'}, '61': {'url': 'https://oknesset.org/member/943', 'party': 'Likud', 'n_bills': 41.0, 'photo': 'photos/Boker_Nava.jpg', 'label': 'Nava Boker'}, '62': {'url': 'https://oknesset.org/member/92', 'party': 'The Jewish Home', 'n_bills': 27.0, 'photo': 'photos/slomiansky_nisan.jpg', 'label': 'Nissan Slomiansky'}, '63': {'url': 'https://oknesset.org/member/944', 'party': 'Likud', 'n_bills': 60.0, 'photo': 'photos/Koren_Nurit.jpg', 'label': 'Nurit Koren'}, '64': {'url': 'https://oknesset.org/member/951', 'party': 'Yisrael Beiteinu', 'n_bills': 1.0, 'photo': 'photos/forer_oded.jpg', 'label': 'Oded Forer'}, '65': {'url': 'https://oknesset.org/member/900', 'party': 'Yesh Atid', 'n_bills': 80.0, 'photo': 'photos/Shelach_Ofer.jpg', 'label': 'Ofer Shelah'}, '66': {'url': 'https://oknesset.org/member/830', 'party': 'Likud', 'n_bills': 7.0, 'photo': 'photos/akunis_ofir.jpg', 'label': 'Ofir Akunis'}, '67': {'url': 'https://oknesset.org/member/866', 'party': 'Zionist Union', 'n_bills': 104.0, 'photo': 'photos/BarLev_Omer.jpg', 'label': 'Omer Barlev'}, '68': {'url': 'https://oknesset.org/member/924', 'party': 'Likud', 'n_bills': 52.0, 'photo': 'photos/Hazan_Oren.jpg', 'label': 'Oren Asaf Hazan'}, '69': {'url': 'https://oknesset.org/member/832', 'party': 'Yisrael Beiteinu', 'n_bills': 158.0, 'photo': 'photos/Levy_Orli.jpg', 'label': 'Orly Levi-Abekasis'}, '70': {'url': 'https://oknesset.org/member/937', 'party': 'Joint List', 'n_bills': 71.0, 'photo': 'photos/Saadi_Osama.jpg', 'label': 'Osama Saadi'}, '71': {'url': 'https://oknesset.org/member/939', 'party': 'Kulanu', 'n_bills': 28.0, 'photo': 'photos/Azaria_Rachel.jpg', 'label': 'Rachel Azaria'}, '72': {'url': 'https://oknesset.org/member/935', 'party': 'Zionist Union', 'n_bills': 37.0, 'photo': 'photos/Swid_Revital.jpg', 'label': 'Revital Swid'}, '73': {'url': 'https://oknesset.org/member/793', 'party': 'Yisrael Beiteinu', 'n_bills': 100.0, 'photo': 'photos/ilatov_robert.jpg', 'label': 'Robert Ilatov'}, '74': {'url': 'https://oknesset.org/member/941', 'party': 'Kulanu', 'n_bills': 77.0, 'photo': 'photos/Folkman_Roy.jpg', 'label': 'Roy Folkman'}, '75': {'url': 'https://oknesset.org/member/950', 'party': 'Likud', 'n_bills': 3.0, 'photo': 'photos/sharren_haskel.jpg', 'label': 'Sharren  Haskel'}, '76': {'url': 'https://oknesset.org/member/782', 'party': 'Zionist Union', 'n_bills': 155.0, 'photo': 'photos/yacimovich_shelly.jpg', 'label': 'Shelly Yachimovich'}, '77': {'url': 'https://oknesset.org/member/879', 'party': 'The Jewish Home', 'n_bills': 69.0, 'photo': 'photos/Moalem_Shuli.jpg', 'label': 'Shuli Moalem-Refaeli'}, '78': {'url': 'https://oknesset.org/member/78', 'party': 'Yisrael Beiteinu', 'n_bills': 51.0, 'photo': 'photos/landver_sofa.jpg', 'label': 'Sofa Landver'}, '79': {'url': 'https://oknesset.org/member/903', 'party': 'Zionist Union', 'n_bills': 95.0, 'photo': 'photos/Shafir_Stav.jpg', 'label': 'Stav Shafir'}, '80': {'url': 'https://oknesset.org/member/857', 'party': 'Joint List', 'n_bills': 24.0, 'photo': 'photos/AbuArar_Talab.jpg', 'label': 'Talab Abu Arar'}, '81': {'url': 'https://oknesset.org/member/942', 'party': 'Kulanu', 'n_bills': 87.0, 'photo': 'photos/Ploskov_Tali.jpg', 'label': 'Tali Ploskov'}, '82': {'url': 'https://oknesset.org/member/871', 'party': 'Meretz', 'n_bills': 300.0, 'photo': 'photos/Zandberg_Tamar.jpg', 'label': 'Tamar Zandberg'}, '83': {'url': 'https://oknesset.org/member/45', 'party': 'Likud', 'n_bills': 1.0, 'photo': 'photos/hanegbi_tzahi.jpg', 'label': 'Tzachi Hanegbi'}, '84': {'url': 'https://oknesset.org/member/825', 'party': 'Likud', 'n_bills': 26.0, 'photo': 'photos/Hotovely_Tzipi.jpg', 'label': 'Tzipi Hotovely'}, '85': {'url': 'https://oknesset.org/member/213', 'party': 'Zionist Union', 'n_bills': 12.0, 'photo': 'photos/livnee_zipi.jpg', 'label': 'Tzipi Livni'}, '86': {'url': 'https://oknesset.org/member/814', 'party': 'United Torah Judaism', 'n_bills': 167.0, 'photo': 'photos/uri_maklev.jpg', 'label': 'Uri Maklev'}, '87': {'url': 'https://oknesset.org/member/713', 'party': 'The Jewish Home', 'n_bills': 22.0, 'photo': 'photos/ariel_uri-yehuda.jpg', 'label': 'Uri Yehuda Ariel'}, '88': {'url': 'https://oknesset.org/member/887', 'party': 'Yesh Atid', 'n_bills': 67.0, 'photo': 'photos/Peri_Yaakov.jpg', 'label': 'Yaakov Perry'}, '89': {'url': 'https://oknesset.org/member/868', 'party': 'Yesh Atid', 'n_bills': 62.0, 'photo': 'photos/German_Yael.jpg', 'label': 'Yael German'}, '90': {'url': 'https://oknesset.org/member/878', 'party': 'Yesh Atid', 'n_bills': 21.0, 'photo': 'photos/Lapid_Yair.jpg', 'label': 'Yair Lapid'}, '91': {'url': 'https://oknesset.org/member/216', 'party': 'United Torah Judaism', 'n_bills': 13.0, 'photo': 'photos/lizman_yaakov.jpg', 'label': 'Yakov Litzman'}, '92': {'url': 'https://oknesset.org/member/751', 'party': 'Shas', 'n_bills': 114.0, 'photo': 'photos/margi_yaakov.jpg', 'label': 'Yakov Margi'}, '93': {'url': 'https://oknesset.org/member/826', 'party': 'Likud', 'n_bills': 82.0, 'photo': 'photos/levin_yariv.jpg', 'label': 'Yariv Levin'}, '94': {'url': 'https://oknesset.org/member/931', 'party': 'Likud', 'n_bills': 3.0, 'photo': 'photos/mazuz_yaron.jpg', 'label': 'Yaron Mazuz'}, '95': {'url': 'https://oknesset.org/member/865', 'party': 'Zionist Union', 'n_bills': 127.0, 'photo': 'photos/Bar_Yechiel.jpg', 'label': 'Yehiel Hilik Bar'}, '96': {'url': 'https://oknesset.org/member/946', 'party': 'Kulanu', 'n_bills': 66.0, 'photo': 'photos/Shasha-Biton_Yifat.jpg', 'label': 'Yifat Shasha-Biton'}, '97': {'url': 'https://oknesset.org/member/65', 'party': 'Shas', 'n_bills': 12.0, 'photo': 'photos/cohen_yitzhak.jpg', 'label': 'Yitzhak Cohen'}, '98': {'url': 'https://oknesset.org/member/50', 'party': 'Shas', 'n_bills': 62.0, 'photo': 'photos/vaknin_yizhak.jpg', 'label': 'Yitzhak Vaknin'}, '99': {'url': 'https://oknesset.org/member/906', 'party': 'Shas', 'n_bills': 76.0, 'photo': 'photos/Yoav_Ben_Tzur.jpg', 'label': 'Yoav Ben-Tzur'}, '100': {'url': 'https://oknesset.org/member/945', 'party': 'Likud', 'n_bills': 56.0, 'photo': 'photos/Kish_Yoav.jpg', 'label': 'Yoav Kisch'}, '101': {'url': 'https://oknesset.org/member/772', 'party': 'Zionist Union', 'n_bills': 112.0, 'photo': 'photos/hasson_yoel.jpg', 'label': 'Yoel Hasson'}, '102': {'url': 'https://oknesset.org/member/897', 'party': 'Yesh Atid', 'n_bills': 73.0, 'photo': 'photos/Rozbozov_Yoel.jpg', 'label': 'Yoel Razvozov'}, '103': {'url': 'https://oknesset.org/member/926', 'party': 'Zionist Union', 'n_bills': 79.0, 'photo': 'photos/Yona_Yossi.jpg', 'label': 'Yoseph Yonah'}, '104': {'url': 'https://oknesset.org/member/919', 'party': 'Joint List', 'n_bills': 119.0, 'photo': 'photos/Jabareen_Yousef.jpg', 'label': 'Yousef Jabareen'}, '105': {'url': 'https://oknesset.org/member/1', 'party': 'Likud', 'n_bills': 2.0, 'photo': 'photos/edelstein_yoel.jpg', 'label': 'Yuli-Yoel Edelstein'}, '106': {'url': 'https://oknesset.org/member/14', 'party': 'Likud', 'n_bills': 3.0, 'photo': 'photos/begin_beni.jpg', 'label': 'Zeev Binyamin Begin'}, '107': {'url': 'https://oknesset.org/member/768', 'party': 'Likud', 'n_bills': 9.0, 'photo': 'photos/elkin_zeev.jpg', 'label': 'Zeev Elkin'}, '108': {'url': 'https://oknesset.org/member/201', 'party': 'Meretz', 'n_bills': 254.0, 'photo': 'photos/galon_zahava.jpg', 'label': 'Zehava Galon'}, '109': {'url': 'https://oknesset.org/member/913', 'party': 'Zionist Union', 'n_bills': 54.0, 'photo': 'photos/Bahloul_Zuhair.jpg', 'label': 'Zouheir Bahloul'}})"
      ]
     },
     "execution_count": 16,
     "metadata": {},
     "output_type": "execute_result"
    }
   ],
   "source": [
    "graph = nx.read_gexf('net_il2015-2018.gexf')\n",
    "graph.nodes(data=True)"
   ]
  },
  {
   "cell_type": "markdown",
   "metadata": {
    "pycharm": {
     "name": "#%% md\n"
    }
   },
   "source": [
    "Number of nodes before filtering:"
   ]
  },
  {
   "cell_type": "code",
   "execution_count": 17,
   "metadata": {},
   "outputs": [
    {
     "data": {
      "text/plain": [
       "109"
      ]
     },
     "execution_count": 17,
     "metadata": {},
     "output_type": "execute_result"
    }
   ],
   "source": [
    "len(graph.nodes())"
   ]
  },
  {
   "cell_type": "markdown",
   "metadata": {},
   "source": [
    "Number of edges before filtering:"
   ]
  },
  {
   "cell_type": "code",
   "execution_count": 18,
   "metadata": {},
   "outputs": [
    {
     "data": {
      "text/plain": [
       "2291"
      ]
     },
     "execution_count": 18,
     "metadata": {},
     "output_type": "execute_result"
    }
   ],
   "source": [
    "len(graph.edges())"
   ]
  },
  {
   "cell_type": "markdown",
   "metadata": {},
   "source": [
    "Number of edges after filtering:"
   ]
  },
  {
   "cell_type": "code",
   "execution_count": 19,
   "metadata": {},
   "outputs": [],
   "source": [
    "edges = [edge for edge in graph.edges(data=True) if(edge[2]['weight'] > 2)]"
   ]
  },
  {
   "cell_type": "code",
   "execution_count": 20,
   "metadata": {
    "scrolled": true
   },
   "outputs": [
    {
     "data": {
      "text/plain": [
       "807"
      ]
     },
     "execution_count": 20,
     "metadata": {},
     "output_type": "execute_result"
    }
   ],
   "source": [
    "# graph.edges = edges\n",
    "len(edges)"
   ]
  },
  {
   "cell_type": "markdown",
   "metadata": {},
   "source": [
    "Number of nodes after filtering:"
   ]
  },
  {
   "cell_type": "code",
   "execution_count": 21,
   "metadata": {},
   "outputs": [
    {
     "data": {
      "text/plain": [
       "109"
      ]
     },
     "execution_count": 21,
     "metadata": {},
     "output_type": "execute_result"
    }
   ],
   "source": [
    "selected_nodes = set()\n",
    "for edge in edges:\n",
    "    selected_nodes.add(edge[0])\n",
    "    selected_nodes.add(edge[1])\n",
    "# len(selected_nodes)\n",
    "len(graph.nodes())"
   ]
  },
  {
   "cell_type": "code",
   "execution_count": 22,
   "metadata": {},
   "outputs": [
    {
     "name": "stdout",
     "output_type": "stream",
     "text": [
      "109\n"
     ]
    }
   ],
   "source": [
    "#graph = graph.subgraph(selected_nodes)\n",
    "all_node = set()\n",
    "for n in graph.nodes():\n",
    "    all_node.add(n)\n",
    "\n",
    "graph.clear()\n",
    "for i in edges:\n",
    "    u = i[0]\n",
    "    v = i[1]\n",
    "    if u not in graph.nodes():\n",
    "        graph.add_node(u)\n",
    "    if v not in graph.nodes():\n",
    "        graph.add_node(v)\n",
    "    graph.add_edge(u, v, id=i[2]['id'], weight=i[2]['weight'])\n",
    "for n in all_node:\n",
    "    if n not in graph.nodes():\n",
    "        graph.add_node(n)\n",
    "print(len(graph.nodes()))"
   ]
  },
  {
   "cell_type": "code",
   "execution_count": 23,
   "metadata": {},
   "outputs": [
    {
     "data": {
      "text/plain": [
       "0.06855249745158003"
      ]
     },
     "execution_count": 23,
     "metadata": {},
     "output_type": "execute_result"
    }
   ],
   "source": [
    "nx.density(graph)"
   ]
  },
  {
   "cell_type": "markdown",
   "metadata": {},
   "source": [
    "Clustering Coefficient"
   ]
  },
  {
   "cell_type": "code",
   "execution_count": 60,
   "metadata": {
    "pycharm": {
     "name": "#%%\n"
    }
   },
   "outputs": [
    {
     "name": "stdout",
     "output_type": "stream",
     "text": [
      "13  : Ayelet Shaked  : 0.08302361581743786  \n",
      "9  : Avi Dichter  : 0.04855250506815172  \n",
      "25  : Eli Cohen  : 0.04747973557935017  \n",
      "16  : Bezalel Smotrich  : 0.041860062306350886  \n",
      "46  : Meir Porush  : 0.039086739609780916  \n",
      "108  : Zehava Galon  : 0.03538693680206351  \n",
      "84  : Tzipi Hotovely  : 0.03336300830839057  \n",
      "3  : Ahmad Tibi  : 0.03257612165698474  \n",
      "87  : Uri Yehuda Ariel  : 0.031612133406542155  \n",
      "28  : Esawi   Frej  : 0.03130634226728302  \n"
     ]
    }
   ],
   "source": [
    "clustering_coefficient_dict = nx.clustering(graph)\n",
    "values = Counter(clustering_coefficient_dict)\n",
    "top_10_clustering_coef = values.most_common(10)\n",
    "graph_before_filter = nx.read_gexf('net_il2015-2018.gexf')\n",
    "for node_id_cc in top_10_clustering_coef:\n",
    "    node_id = node_id_cc[0]\n",
    "    node = graph_before_filter.nodes()[node_id]\n",
    "    node_label = node['label']\n",
    "    node_clustering_coefficient = node_id_cc[1]\n",
    "    print(node_id, \" :\", node_label, \" :\", node_clustering_coefficient, \" \")"
   ]
  },
  {
   "cell_type": "markdown",
   "metadata": {},
   "source": [
    "Betweeness Centrality"
   ]
  },
  {
   "cell_type": "code",
   "execution_count": 59,
   "metadata": {
    "pycharm": {
     "is_executing": false,
     "name": "#%%\n"
    }
   },
   "outputs": [
    {
     "name": "stdout",
     "output_type": "stream",
     "text": [
      "38  : Itzik Shmuli  : 0.018387273566401297  \n",
      "49  : Merav Michaeli  : 0.018149301949925003  \n",
      "59  : Moshe Gafni  : 0.017566632052613364  \n",
      "92  : Yakov Margi  : 0.01589650398061613  \n",
      "14  : Ayman Udeh  : 0.00943232952578747  \n",
      "20  : Dov Khenin  : 0.008581400715357101  \n",
      "79  : Stav Shafir  : 0.0070122302988346605  \n",
      "101  : Yoel Hasson  : 0.006853582554517135  \n",
      "36  : Isaac Herzog  : 0.006086304372908736  \n",
      "56  : Miki Zohar  : 0.005399792315680167  \n"
     ]
    }
   ],
   "source": [
    "bc_results_dict = nx.betweenness_centrality(graph)\n",
    "values = Counter(bc_results_dict)\n",
    "top_10_betweennes_centr = values.most_common(10)\n",
    "graph_before_filter = nx.read_gexf('net_il2015-2018.gexf')\n",
    "for node_id_bc in top_10_betweennes_centr:\n",
    "    node_id = node_id_bc[0]\n",
    "    node = graph_before_filter.nodes()[node_id]\n",
    "    node_label = node['label']\n",
    "    node_betweenness_centrality = node_id_bc[1]\n",
    "    print(node_id, \" :\", node_label, \" :\", node_betweenness_centrality, \" \")"
   ]
  },
  {
   "cell_type": "markdown",
   "metadata": {},
   "source": [
    "Degree Centrality:"
   ]
  },
  {
   "cell_type": "code",
   "execution_count": 61,
   "metadata": {},
   "outputs": [
    {
     "name": "stdout",
     "output_type": "stream",
     "text": [
      "57  : Miri Regev  : 0.6388888888888888  \n",
      "19  : David Bitan  : 0.6296296296296295  \n",
      "38  : Itzik Shmuli  : 0.45370370370370366  \n",
      "93  : Yariv Levin  : 0.4444444444444444  \n",
      "100  : Yoav Kisch  : 0.41666666666666663  \n",
      "56  : Miki Zohar  : 0.41666666666666663  \n",
      "20  : Dov Khenin  : 0.4074074074074074  \n",
      "26  : Elie Elalouf  : 0.3796296296296296  \n",
      "49  : Merav Michaeli  : 0.35185185185185186  \n",
      "76  : Shelly Yachimovich  : 0.35185185185185186  \n"
     ]
    }
   ],
   "source": [
    "degree_centrality_coefficient = nx.degree_centrality(graph)\n",
    "values = Counter(degree_centrality_coefficient)\n",
    "top_10_degree_cent = values.most_common(10)\n",
    "graph_before_filter = nx.read_gexf('net_il2015-2018.gexf')\n",
    "for node_id_dc in top_10_degree_cent:\n",
    "    node_id = node_id_dc[0]\n",
    "    node = graph_before_filter.nodes()[node_id]\n",
    "    node_label = node['label']\n",
    "    node_degree_centrality = node_id_dc[1]\n",
    "    print(node_id, \" :\", node_label, \" :\", node_degree_centrality, \" \")"
   ]
  },
  {
   "cell_type": "markdown",
   "metadata": {},
   "source": [
    "Eigenvector Centrality:"
   ]
  },
  {
   "cell_type": "code",
   "execution_count": 37,
   "metadata": {
    "scrolled": true
   },
   "outputs": [
    {
     "name": "stdout",
     "output_type": "stream",
     "text": [
      "57  : Miri Regev  : 0.9989090202485191  \n",
      "93  : Yariv Levin  : 0.04664783166349505  \n",
      "30  : Gila Gamliel  : 0.0021770729832812498  \n",
      "19  : David Bitan  : 9.697866608035052e-05  \n",
      "100  : Yoav Kisch  : 3.946970737241932e-06  \n",
      "17  : David Amsalem  : 1.5272957882019018e-07  \n",
      "56  : Miki Zohar  : 5.81729459884539e-09  \n",
      "7  : Anat Berko  : 1.9887658378355422e-10  \n",
      "63  : Nurit Koren  : 3.363882730293608e-12  \n",
      "11  : Avraham Naguisa  : 3.363882729824647e-12  \n"
     ]
    }
   ],
   "source": [
    "eigenvector_centrality_dict = nx.eigenvector_centrality(graph, max_iter=900)\n",
    "values = Counter(eigenvector_centrality_dict)\n",
    "top_10_eigenvector = values.most_common(10)\n",
    "graph_before_filter = nx.read_gexf('net_il2015-2018.gexf')\n",
    "for node_id_cc in top_10_eigenvector:\n",
    "    node_id = node_id_cc[0]\n",
    "    node = graph_before_filter.nodes()[node_id]\n",
    "    node_label = node['label']\n",
    "    node_eigenvector = node_id_cc[1]\n",
    "    print(node_id, \" :\", node_label, \" :\", node_eigenvector, \" \")"
   ]
  },
  {
   "cell_type": "markdown",
   "metadata": {},
   "source": [
    "Closeness Centrality:"
   ]
  },
  {
   "cell_type": "code",
   "execution_count": 38,
   "metadata": {},
   "outputs": [
    {
     "name": "stdout",
     "output_type": "stream",
     "text": [
      "57  : Miri Regev  : 0.6701566951566952  \n",
      "19  : David Bitan  : 0.6371252204585538  \n",
      "93  : Yariv Levin  : 0.5514705882352942  \n",
      "100  : Yoav Kisch  : 0.4875621890547264  \n",
      "56  : Miki Zohar  : 0.48178259560373377  \n",
      "30  : Gila Gamliel  : 0.4658604182413706  \n",
      "17  : David Amsalem  : 0.4160958904109589  \n",
      "26  : Elie Elalouf  : 0.39151936026936024  \n",
      "11  : Avraham Naguisa  : 0.3643250688705234  \n",
      "7  : Anat Berko  : 0.34070018924033524  \n"
     ]
    }
   ],
   "source": [
    "closeness_centrality_dict = nx.closeness_centrality(graph)\n",
    "values = Counter(closeness_centrality_dict)\n",
    "top_10_closeness = values.most_common(10)\n",
    "graph_before_filter = nx.read_gexf('net_il2015-2018.gexf')\n",
    "for node_id_cc in top_10_closeness:\n",
    "    node_id = node_id_cc[0]\n",
    "    node = graph_before_filter.nodes()[node_id]\n",
    "    node_label = node['label']\n",
    "    node_closeness_centrality = node_id_cc[1]\n",
    "    print(node_id, \" :\", node_label, \" :\", node_closeness_centrality, \" \")"
   ]
  },
  {
   "cell_type": "code",
   "execution_count": null,
   "metadata": {
    "pycharm": {
     "name": "#%%\n"
    }
   },
   "outputs": [],
   "source": [
    "# compute eigenvector centrality - normalized\n",
    "\n",
    "max_value = max(eigenvector_centrality.items(), key=lambda x: x[1])\n",
    "\n",
    "ec_scaled = {}\n",
    "for k in eigenvector_centrality.keys():\n",
    "    ec_scaled[k] = max (eigenvector_centrality[k] / max_value[1],0.0)\n",
    "\n",
    "# Scaled by the most central character (karev)\n",
    "[str(graph.nodes[node[0]]['label']) + ' normalized eigenvector centrality is: ' + str(degree_centrality[node[0]]) for node in sorted(ec_scaled.items(), key=lambda x:x[1], reverse=True)[:10]]"
   ]
  },
  {
   "cell_type": "markdown",
   "metadata": {},
   "source": [
    "Community detection:"
   ]
  },
  {
   "cell_type": "code",
   "execution_count": 39,
   "metadata": {},
   "outputs": [
    {
     "data": {
      "text/plain": [
       "{0: ['1',\n",
       "  '10',\n",
       "  '100',\n",
       "  '101',\n",
       "  '102',\n",
       "  '103',\n",
       "  '104',\n",
       "  '107',\n",
       "  '108',\n",
       "  '109',\n",
       "  '11',\n",
       "  '12',\n",
       "  '13',\n",
       "  '14',\n",
       "  '15',\n",
       "  '16',\n",
       "  '17',\n",
       "  '18',\n",
       "  '19',\n",
       "  '2',\n",
       "  '20',\n",
       "  '21',\n",
       "  '22',\n",
       "  '23',\n",
       "  '25',\n",
       "  '26',\n",
       "  '27',\n",
       "  '28',\n",
       "  '29',\n",
       "  '3',\n",
       "  '30',\n",
       "  '31',\n",
       "  '32',\n",
       "  '33',\n",
       "  '34',\n",
       "  '35',\n",
       "  '36',\n",
       "  '37',\n",
       "  '38',\n",
       "  '39',\n",
       "  '4',\n",
       "  '40',\n",
       "  '41',\n",
       "  '42',\n",
       "  '43',\n",
       "  '44',\n",
       "  '45',\n",
       "  '46',\n",
       "  '47',\n",
       "  '48',\n",
       "  '49',\n",
       "  '5',\n",
       "  '50',\n",
       "  '51',\n",
       "  '52',\n",
       "  '53',\n",
       "  '54',\n",
       "  '55',\n",
       "  '56',\n",
       "  '57',\n",
       "  '58',\n",
       "  '59',\n",
       "  '6',\n",
       "  '60',\n",
       "  '61',\n",
       "  '62',\n",
       "  '63',\n",
       "  '65',\n",
       "  '66',\n",
       "  '67',\n",
       "  '68',\n",
       "  '69',\n",
       "  '7',\n",
       "  '70',\n",
       "  '71',\n",
       "  '72',\n",
       "  '73',\n",
       "  '74',\n",
       "  '76',\n",
       "  '77',\n",
       "  '78',\n",
       "  '79',\n",
       "  '8',\n",
       "  '81',\n",
       "  '82',\n",
       "  '84',\n",
       "  '85',\n",
       "  '86',\n",
       "  '87',\n",
       "  '88',\n",
       "  '89',\n",
       "  '9',\n",
       "  '90',\n",
       "  '91',\n",
       "  '92',\n",
       "  '93',\n",
       "  '95',\n",
       "  '96',\n",
       "  '97',\n",
       "  '98',\n",
       "  '99'],\n",
       " 1: ['80'],\n",
       " 2: ['24'],\n",
       " 3: ['64'],\n",
       " 4: ['106'],\n",
       " 5: ['83'],\n",
       " 6: ['105'],\n",
       " 7: ['94'],\n",
       " 8: ['75']}"
      ]
     },
     "execution_count": 39,
     "metadata": {},
     "output_type": "execute_result"
    }
   ],
   "source": [
    "from networkx.algorithms.community import girvan_newman\n",
    "\n",
    "gn_comm = girvan_newman(graph)\n",
    "first_iteration_comm = tuple(sorted(c) for c in next(gn_comm))\n",
    "dict(enumerate(first_iteration_comm))"
   ]
  },
  {
   "cell_type": "code",
   "execution_count": 32,
   "metadata": {},
   "outputs": [
    {
     "data": {
      "text/plain": [
       "[('1',\n",
       "  {'partition_0': 0, 'partition_1': 0, 'partition_2': 0, 'partition_3': 0}),\n",
       " ('14',\n",
       "  {'partition_0': 0, 'partition_1': 0, 'partition_2': 0, 'partition_3': 0})]"
      ]
     },
     "execution_count": 32,
     "metadata": {},
     "output_type": "execute_result"
    }
   ],
   "source": [
    "list(graph.nodes(data=True))[:2]"
   ]
  },
  {
   "cell_type": "code",
   "execution_count": 33,
   "metadata": {},
   "outputs": [
    {
     "ename": "KeyError",
     "evalue": "'party'",
     "output_type": "error",
     "traceback": [
      "\u001b[1;31m---------------------------------------------------------------------------\u001b[0m",
      "\u001b[1;31mKeyError\u001b[0m                                  Traceback (most recent call last)",
      "\u001b[1;32m<ipython-input-33-6f218b0ad989>\u001b[0m in \u001b[0;36m<module>\u001b[1;34m\u001b[0m\n\u001b[0;32m      4\u001b[0m \u001b[1;32mfor\u001b[0m \u001b[0mnode\u001b[0m \u001b[1;32min\u001b[0m \u001b[0mnodes\u001b[0m\u001b[1;33m:\u001b[0m\u001b[1;33m\u001b[0m\u001b[1;33m\u001b[0m\u001b[0m\n\u001b[0;32m      5\u001b[0m     \u001b[1;32mif\u001b[0m \u001b[0mnode\u001b[0m\u001b[1;33m[\u001b[0m\u001b[1;36m1\u001b[0m\u001b[1;33m]\u001b[0m\u001b[1;33m[\u001b[0m\u001b[1;34m'partition_3'\u001b[0m\u001b[1;33m]\u001b[0m \u001b[1;33m==\u001b[0m \u001b[1;36m0\u001b[0m\u001b[1;33m:\u001b[0m\u001b[1;33m\u001b[0m\u001b[1;33m\u001b[0m\u001b[0m\n\u001b[1;32m----> 6\u001b[1;33m         \u001b[0mprint\u001b[0m\u001b[1;33m(\u001b[0m\u001b[0mnode\u001b[0m\u001b[1;33m[\u001b[0m\u001b[1;36m1\u001b[0m\u001b[1;33m]\u001b[0m\u001b[1;33m[\u001b[0m\u001b[1;34m'party'\u001b[0m\u001b[1;33m]\u001b[0m\u001b[1;33m)\u001b[0m\u001b[1;33m\u001b[0m\u001b[1;33m\u001b[0m\u001b[0m\n\u001b[0m",
      "\u001b[1;31mKeyError\u001b[0m: 'party'"
     ]
    }
   ],
   "source": [
    "# Need to check that\n",
    "nodes = list(graph.nodes(data=True))\n",
    "\n",
    "for node in nodes:\n",
    "    if node[1]['partition_3'] == 0:\n",
    "        print(node[1]['party'])"
   ]
  },
  {
   "cell_type": "markdown",
   "metadata": {},
   "source": [
    "Link prediction:"
   ]
  }
 ],
 "metadata": {
  "kernelspec": {
   "display_name": "Python 3",
   "language": "python",
   "name": "python3"
  },
  "language_info": {
   "codemirror_mode": {
    "name": "ipython",
    "version": 3
   },
   "file_extension": ".py",
   "mimetype": "text/x-python",
   "name": "python",
   "nbconvert_exporter": "python",
   "pygments_lexer": "ipython3",
   "version": "3.6.8"
  },
  "pycharm": {
   "stem_cell": {
    "cell_type": "raw",
    "metadata": {
     "collapsed": false
    },
    "source": []
   }
  }
 },
 "nbformat": 4,
 "nbformat_minor": 2
}
