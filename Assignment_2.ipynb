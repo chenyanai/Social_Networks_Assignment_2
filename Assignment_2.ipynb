{
 "cells": [
  {
   "cell_type": "code",
   "execution_count": 1,
   "metadata": {},
   "outputs": [],
   "source": [
    "import networkx as nx\n",
    "import pandas as pd\n",
    "import numpy as np\n",
    "import matplotlib.pyplot as plt\n",
    "%matplotlib inline"
   ]
  },
  {
   "cell_type": "code",
   "execution_count": 2,
   "metadata": {},
   "outputs": [
    {
     "data": {
      "text/plain": [
       "NodeDataView({'1': {'url': 'https://oknesset.org/member/923', 'party': 'Joint List', 'n_bills': 37.0, 'photo': 'photos/Haj-Yahya_Abd-Al-Hakeem.jpg', 'label': 'Abd Al Hakeem Haj Yahya'}, '2': {'url': 'https://oknesset.org/member/909', 'party': 'Joint List', 'n_bills': 152.0, 'photo': 'photos/Abu-Maaruf_Abdullah.jpg', 'label': 'Abdullah Abu Maaruf'}, '3': {'url': 'https://oknesset.org/member/208', 'party': 'Joint List', 'n_bills': 78.0, 'photo': 'photos/tibi_ahmed.jpg', 'label': 'Ahmad Tibi'}, '4': {'url': 'https://oknesset.org/member/948', 'party': 'Joint List', 'n_bills': 133.0, 'photo': 'photos/Touma-Sliman_Aida.jpg', 'label': 'Aida Touma-Sliman'}, '5': {'url': 'https://oknesset.org/member/875', 'party': 'Yesh Atid', 'n_bills': 112.0, 'photo': 'photos/Lavie_Aliza.jpg', 'label': 'Aliza Lavie'}, '6': {'url': 'https://oknesset.org/member/105', 'party': 'Zionist Union', 'n_bills': 30.0, 'photo': 'photos/peretz_amir.jpg', 'label': 'Amir Peretz'}, '7': {'url': 'https://oknesset.org/member/918', 'party': 'Likud', 'n_bills': 42.0, 'photo': 'photos/Berko_Anat.jpg', 'label': 'Anat Berko'}, '8': {'url': 'https://oknesset.org/member/41', 'party': 'Shas', 'n_bills': 11.0, 'photo': 'photos/deri_aryeh.jpg', 'label': 'Aryeh Machluf Deri'}, '9': {'url': 'https://oknesset.org/member/771', 'party': 'Likud', 'n_bills': 23.0, 'photo': 'photos/dicter_abraham.jpg', 'label': 'Avi Dichter'}, '10': {'url': 'https://oknesset.org/member/214', 'party': 'Yisrael Beiteinu', 'n_bills': 12.0, 'photo': 'photos/liberman_avigdor.jpg', 'label': 'Avigdor Liberman'}, '11': {'url': 'https://oknesset.org/member/932', 'party': 'Likud', 'n_bills': 59.0, 'photo': 'photos/Nagosa_Avraham.jpg', 'label': 'Avraham Naguisa'}, '12': {'url': 'https://oknesset.org/member/933', 'party': 'Zionist Union', 'n_bills': 84.0, 'photo': 'photos/Nahmias-Verbin_Ayelet.jpg', 'label': 'Ayelet Nahmias-Verbin'}, '13': {'url': 'https://oknesset.org/member/904', 'party': 'The Jewish Home', 'n_bills': 40.0, 'photo': 'photos/Shaked_Ayelet.jpg', 'label': 'Ayelet Shaked'}, '14': {'url': 'https://oknesset.org/member/938', 'party': 'Joint List', 'n_bills': 135.0, 'photo': 'photos/Uda_Aiman.jpg', 'label': 'Ayman Udeh'}, '15': {'url': 'https://oknesset.org/member/867', 'party': 'Joint List', 'n_bills': 52.0, 'photo': 'photos/Jitas_Basil.jpg', 'label': 'Basel Ghattas'}, '16': {'url': 'https://oknesset.org/member/936', 'party': 'The Jewish Home', 'n_bills': 49.0, 'photo': 'photos/Smotrich_Bezalel.jpg', 'label': 'Bezalel Smotrich'}, '17': {'url': 'https://oknesset.org/member/912', 'party': 'Likud', 'n_bills': 36.0, 'photo': 'photos/Amsalem_David.jpg', 'label': 'David Amsalem'}, '18': {'url': 'https://oknesset.org/member/7', 'party': 'Shas', 'n_bills': 53.0, 'photo': 'photos/azoulay_david.jpg', 'label': 'David Azoulay'}, '19': {'url': 'https://oknesset.org/member/914', 'party': 'Likud', 'n_bills': 55.0, 'photo': 'photos/Bitan_David.jpg', 'label': 'David Bitan'}, '20': {'url': 'https://oknesset.org/member/780', 'party': 'Joint List', 'n_bills': 454.0, 'photo': 'photos/khenin_dov.jpg', 'label': 'Dov Khenin'}, '21': {'url': 'https://oknesset.org/member/917', 'party': 'Zionist Union', 'n_bills': 49.0, 'photo': 'photos/Broshi_Eitan.jpg', 'label': 'Eitan Broshi'}, '22': {'url': 'https://oknesset.org/member/64', 'party': 'Zionist Union', 'n_bills': 259.0, 'photo': 'photos/cabel_eitan.jpg', 'label': 'Eitan Cabel'}, '23': {'url': 'https://oknesset.org/member/899', 'party': 'Yesh Atid', 'n_bills': 84.0, 'photo': 'photos/Stern_Eliezer.jpg', 'label': 'Elazar Stern'}, '24': {'url': 'https://oknesset.org/member/863', 'party': 'The Jewish Home', 'n_bills': 3.0, 'photo': 'photos/BenDahan_Eliahu.jpg', 'label': 'Eli Ben-Dahan'}, '25': {'url': 'https://oknesset.org/member/928', 'party': 'Kulanu', 'n_bills': 35.0, 'photo': 'photos/Cohen_Eli1.jpg', 'label': 'Eli Cohen'}, '26': {'url': 'https://oknesset.org/member/911', 'party': 'Kulanu', 'n_bills': 56.0, 'photo': 'photos/Alalouf_Eli.jpg', 'label': 'Elie Elalouf'}, '27': {'url': 'https://oknesset.org/member/882', 'party': 'Zionist Union', 'n_bills': 67.0, 'photo': 'photos/Margalit_Erel.jpg', 'label': 'Erel Margalit'}, '28': {'url': 'https://oknesset.org/member/888', 'party': 'Meretz', 'n_bills': 167.0, 'photo': 'photos/Farij_Issawi.jpg', 'label': 'Esawi   Frej'}, '29': {'url': 'https://oknesset.org/member/916', 'party': 'Zionist Union', 'n_bills': 62.0, 'photo': 'photos/Ben-Reuven_Eyal.jpg', 'label': 'Eyal Ben-Reuven'}, '30': {'url': 'https://oknesset.org/member/723', 'party': 'Likud', 'n_bills': 52.0, 'photo': 'photos/gamliel_gila.jpg', 'label': 'Gila Gamliel'}, '31': {'url': 'https://oknesset.org/member/927', 'party': 'Yesh Atid', 'n_bills': 73.0, 'photo': 'photos/Yalin_Haim.jpg', 'label': 'Haim Jelin'}, '32': {'url': 'https://oknesset.org/member/212', 'party': 'Likud', 'n_bills': 49.0, 'photo': 'photos/katz_haim.jpg', 'label': 'Haim Katz'}, '33': {'url': 'https://oknesset.org/member/837', 'party': 'Yisrael Beiteinu', 'n_bills': 58.0, 'photo': 'photos/Amar_Hamad.jpg', 'label': 'Hamad Amar'}, '34': {'url': 'https://oknesset.org/member/846', 'party': 'Joint List', 'n_bills': 45.0, 'photo': 'photos/Zuabi_Hanin.jpg', 'label': 'Hanin Zoabi'}, '35': {'url': 'https://oknesset.org/member/200', 'party': 'Meretz', 'n_bills': 258.0, 'photo': 'photos/gilon_ilan.jpg', 'label': 'Ilan Gilon'}, '36': {'url': 'https://oknesset.org/member/740', 'party': 'Zionist Union', 'n_bills': 49.0, 'photo': 'photos/herzog_yitzhak.jpg', 'label': 'Isaac Herzog'}, '37': {'url': 'https://oknesset.org/member/754', 'party': 'United Torah Judaism', 'n_bills': 47.0, 'photo': 'photos/eichler_israel.jpg', 'label': 'Israel Eichler'}, '38': {'url': 'https://oknesset.org/member/901', 'party': 'Zionist Union', 'n_bills': 197.0, 'photo': 'photos/Shmuli_Itzik.jpg', 'label': 'Itzik Shmuli'}, '39': {'url': 'https://oknesset.org/member/929', 'party': 'Likud', 'n_bills': 6.0, 'photo': 'photos/Levy_Jackie.jpg', 'label': 'Jackie Levy'}, '40': {'url': 'https://oknesset.org/member/756', 'party': 'Joint List', 'n_bills': 43.0, 'photo': 'photos/zahalka_jamal.jpg', 'label': 'Jamal Zahalka'}, '41': {'url': 'https://oknesset.org/member/860', 'party': 'Yesh Atid', 'n_bills': 141.0, 'photo': 'photos/Alharar_Karin.jpg', 'label': 'Karin Elharrar'}, '42': {'url': 'https://oknesset.org/member/934', 'party': 'Zionist Union', 'n_bills': 67.0, 'photo': 'photos/Svetlova_Ksenia.jpg', 'label': 'Ksenia Svetlova'}, '43': {'url': 'https://oknesset.org/member/925', 'party': 'Zionist Union', 'n_bills': 41.0, 'photo': 'photos/Trajtenberg_Manuel.jpg', 'label': 'Manuel Trajtenberg'}, '44': {'url': 'https://oknesset.org/member/844', 'party': 'Joint List', 'n_bills': 51.0, 'photo': 'photos/Ganaim_Masud.jpg', 'label': 'Masud Ganaim'}, '45': {'url': 'https://oknesset.org/member/874', 'party': 'Yesh Atid', 'n_bills': 59.0, 'photo': 'photos/cohen_meir1.jpg', 'label': 'Meir Cohen'}, '46': {'url': 'https://oknesset.org/member/103', 'party': 'United Torah Judaism', 'n_bills': 16.0, 'photo': 'photos/porush_meir.jpg', 'label': 'Meir Porush'}, '47': {'url': 'https://oknesset.org/member/839', 'party': 'United Torah Judaism', 'n_bills': 52.0, 'photo': 'photos/moses_menachem.jpg', 'label': 'Menachem Eliezer Moses'}, '48': {'url': 'https://oknesset.org/member/915', 'party': 'Kulanu', 'n_bills': 106.0, 'photo': 'photos/BenAri_Merav.jpg', 'label': 'Merav Ben Ari'}, '49': {'url': 'https://oknesset.org/member/881', 'party': 'Zionist Union', 'n_bills': 195.0, 'photo': 'photos/Michaeli_Meirav.jpg', 'label': 'Merav Michaeli'}, '50': {'url': 'https://oknesset.org/member/222', 'party': 'Shas', 'n_bills': 7.0, 'photo': 'photos/nahari_meshulam.jpg', 'label': 'Meshulam Nahari'}, '51': {'url': 'https://oknesset.org/member/910', 'party': 'Kulanu', 'n_bills': 21.0, 'photo': 'photos/Oren_Michael.jpg', 'label': 'Michael Oren'}, '52': {'url': 'https://oknesset.org/member/862', 'party': 'Zionist Union', 'n_bills': 92.0, 'photo': 'photos/Biran_Michal.jpg', 'label': 'Michal Biran'}, '53': {'url': 'https://oknesset.org/member/895', 'party': 'Meretz', 'n_bills': 300.0, 'photo': 'photos/Rozin_Michal.jpg', 'label': 'Michal Rozin'}, '54': {'url': 'https://oknesset.org/member/876', 'party': 'Yesh Atid', 'n_bills': 134.0, 'photo': 'photos/Levy_Mickey.jpg', 'label': 'Mickey Levy'}, '55': {'url': 'https://oknesset.org/member/896', 'party': 'Zionist Union', 'n_bills': 174.0, 'photo': 'photos/Rosenthal_Mickey.jpg', 'label': 'Micky Rosenthal'}, '56': {'url': 'https://oknesset.org/member/922', 'party': 'Likud', 'n_bills': 63.0, 'photo': 'photos/Zohar_Miki.jpg', 'label': 'Miki Zohar'}, '57': {'url': 'https://oknesset.org/member/831', 'party': 'Likud', 'n_bills': 139.0, 'photo': 'photos/regev_miri.jpg', 'label': 'Miri Regev'}, '58': {'url': 'https://oknesset.org/member/873', 'party': 'The Jewish Home', 'n_bills': 60.0, 'photo': 'photos/Yogev_Mordechai.jpg', 'label': 'Mordhay Yogev'}, '59': {'url': 'https://oknesset.org/member/35', 'party': 'United Torah Judaism', 'n_bills': 143.0, 'photo': 'photos/gafni_moshe.jpg', 'label': 'Moshe Gafni'}, '60': {'url': 'https://oknesset.org/member/818', 'party': 'Zionist Union', 'n_bills': 176.0, 'photo': 'photos/nachman_shai.jpg', 'label': 'Nachman Shai'}, '61': {'url': 'https://oknesset.org/member/943', 'party': 'Likud', 'n_bills': 41.0, 'photo': 'photos/Boker_Nava.jpg', 'label': 'Nava Boker'}, '62': {'url': 'https://oknesset.org/member/92', 'party': 'The Jewish Home', 'n_bills': 27.0, 'photo': 'photos/slomiansky_nisan.jpg', 'label': 'Nissan Slomiansky'}, '63': {'url': 'https://oknesset.org/member/944', 'party': 'Likud', 'n_bills': 60.0, 'photo': 'photos/Koren_Nurit.jpg', 'label': 'Nurit Koren'}, '64': {'url': 'https://oknesset.org/member/951', 'party': 'Yisrael Beiteinu', 'n_bills': 1.0, 'photo': 'photos/forer_oded.jpg', 'label': 'Oded Forer'}, '65': {'url': 'https://oknesset.org/member/900', 'party': 'Yesh Atid', 'n_bills': 80.0, 'photo': 'photos/Shelach_Ofer.jpg', 'label': 'Ofer Shelah'}, '66': {'url': 'https://oknesset.org/member/830', 'party': 'Likud', 'n_bills': 7.0, 'photo': 'photos/akunis_ofir.jpg', 'label': 'Ofir Akunis'}, '67': {'url': 'https://oknesset.org/member/866', 'party': 'Zionist Union', 'n_bills': 104.0, 'photo': 'photos/BarLev_Omer.jpg', 'label': 'Omer Barlev'}, '68': {'url': 'https://oknesset.org/member/924', 'party': 'Likud', 'n_bills': 52.0, 'photo': 'photos/Hazan_Oren.jpg', 'label': 'Oren Asaf Hazan'}, '69': {'url': 'https://oknesset.org/member/832', 'party': 'Yisrael Beiteinu', 'n_bills': 158.0, 'photo': 'photos/Levy_Orli.jpg', 'label': 'Orly Levi-Abekasis'}, '70': {'url': 'https://oknesset.org/member/937', 'party': 'Joint List', 'n_bills': 71.0, 'photo': 'photos/Saadi_Osama.jpg', 'label': 'Osama Saadi'}, '71': {'url': 'https://oknesset.org/member/939', 'party': 'Kulanu', 'n_bills': 28.0, 'photo': 'photos/Azaria_Rachel.jpg', 'label': 'Rachel Azaria'}, '72': {'url': 'https://oknesset.org/member/935', 'party': 'Zionist Union', 'n_bills': 37.0, 'photo': 'photos/Swid_Revital.jpg', 'label': 'Revital Swid'}, '73': {'url': 'https://oknesset.org/member/793', 'party': 'Yisrael Beiteinu', 'n_bills': 100.0, 'photo': 'photos/ilatov_robert.jpg', 'label': 'Robert Ilatov'}, '74': {'url': 'https://oknesset.org/member/941', 'party': 'Kulanu', 'n_bills': 77.0, 'photo': 'photos/Folkman_Roy.jpg', 'label': 'Roy Folkman'}, '75': {'url': 'https://oknesset.org/member/950', 'party': 'Likud', 'n_bills': 3.0, 'photo': 'photos/sharren_haskel.jpg', 'label': 'Sharren  Haskel'}, '76': {'url': 'https://oknesset.org/member/782', 'party': 'Zionist Union', 'n_bills': 155.0, 'photo': 'photos/yacimovich_shelly.jpg', 'label': 'Shelly Yachimovich'}, '77': {'url': 'https://oknesset.org/member/879', 'party': 'The Jewish Home', 'n_bills': 69.0, 'photo': 'photos/Moalem_Shuli.jpg', 'label': 'Shuli Moalem-Refaeli'}, '78': {'url': 'https://oknesset.org/member/78', 'party': 'Yisrael Beiteinu', 'n_bills': 51.0, 'photo': 'photos/landver_sofa.jpg', 'label': 'Sofa Landver'}, '79': {'url': 'https://oknesset.org/member/903', 'party': 'Zionist Union', 'n_bills': 95.0, 'photo': 'photos/Shafir_Stav.jpg', 'label': 'Stav Shafir'}, '80': {'url': 'https://oknesset.org/member/857', 'party': 'Joint List', 'n_bills': 24.0, 'photo': 'photos/AbuArar_Talab.jpg', 'label': 'Talab Abu Arar'}, '81': {'url': 'https://oknesset.org/member/942', 'party': 'Kulanu', 'n_bills': 87.0, 'photo': 'photos/Ploskov_Tali.jpg', 'label': 'Tali Ploskov'}, '82': {'url': 'https://oknesset.org/member/871', 'party': 'Meretz', 'n_bills': 300.0, 'photo': 'photos/Zandberg_Tamar.jpg', 'label': 'Tamar Zandberg'}, '83': {'url': 'https://oknesset.org/member/45', 'party': 'Likud', 'n_bills': 1.0, 'photo': 'photos/hanegbi_tzahi.jpg', 'label': 'Tzachi Hanegbi'}, '84': {'url': 'https://oknesset.org/member/825', 'party': 'Likud', 'n_bills': 26.0, 'photo': 'photos/Hotovely_Tzipi.jpg', 'label': 'Tzipi Hotovely'}, '85': {'url': 'https://oknesset.org/member/213', 'party': 'Zionist Union', 'n_bills': 12.0, 'photo': 'photos/livnee_zipi.jpg', 'label': 'Tzipi Livni'}, '86': {'url': 'https://oknesset.org/member/814', 'party': 'United Torah Judaism', 'n_bills': 167.0, 'photo': 'photos/uri_maklev.jpg', 'label': 'Uri Maklev'}, '87': {'url': 'https://oknesset.org/member/713', 'party': 'The Jewish Home', 'n_bills': 22.0, 'photo': 'photos/ariel_uri-yehuda.jpg', 'label': 'Uri Yehuda Ariel'}, '88': {'url': 'https://oknesset.org/member/887', 'party': 'Yesh Atid', 'n_bills': 67.0, 'photo': 'photos/Peri_Yaakov.jpg', 'label': 'Yaakov Perry'}, '89': {'url': 'https://oknesset.org/member/868', 'party': 'Yesh Atid', 'n_bills': 62.0, 'photo': 'photos/German_Yael.jpg', 'label': 'Yael German'}, '90': {'url': 'https://oknesset.org/member/878', 'party': 'Yesh Atid', 'n_bills': 21.0, 'photo': 'photos/Lapid_Yair.jpg', 'label': 'Yair Lapid'}, '91': {'url': 'https://oknesset.org/member/216', 'party': 'United Torah Judaism', 'n_bills': 13.0, 'photo': 'photos/lizman_yaakov.jpg', 'label': 'Yakov Litzman'}, '92': {'url': 'https://oknesset.org/member/751', 'party': 'Shas', 'n_bills': 114.0, 'photo': 'photos/margi_yaakov.jpg', 'label': 'Yakov Margi'}, '93': {'url': 'https://oknesset.org/member/826', 'party': 'Likud', 'n_bills': 82.0, 'photo': 'photos/levin_yariv.jpg', 'label': 'Yariv Levin'}, '94': {'url': 'https://oknesset.org/member/931', 'party': 'Likud', 'n_bills': 3.0, 'photo': 'photos/mazuz_yaron.jpg', 'label': 'Yaron Mazuz'}, '95': {'url': 'https://oknesset.org/member/865', 'party': 'Zionist Union', 'n_bills': 127.0, 'photo': 'photos/Bar_Yechiel.jpg', 'label': 'Yehiel Hilik Bar'}, '96': {'url': 'https://oknesset.org/member/946', 'party': 'Kulanu', 'n_bills': 66.0, 'photo': 'photos/Shasha-Biton_Yifat.jpg', 'label': 'Yifat Shasha-Biton'}, '97': {'url': 'https://oknesset.org/member/65', 'party': 'Shas', 'n_bills': 12.0, 'photo': 'photos/cohen_yitzhak.jpg', 'label': 'Yitzhak Cohen'}, '98': {'url': 'https://oknesset.org/member/50', 'party': 'Shas', 'n_bills': 62.0, 'photo': 'photos/vaknin_yizhak.jpg', 'label': 'Yitzhak Vaknin'}, '99': {'url': 'https://oknesset.org/member/906', 'party': 'Shas', 'n_bills': 76.0, 'photo': 'photos/Yoav_Ben_Tzur.jpg', 'label': 'Yoav Ben-Tzur'}, '100': {'url': 'https://oknesset.org/member/945', 'party': 'Likud', 'n_bills': 56.0, 'photo': 'photos/Kish_Yoav.jpg', 'label': 'Yoav Kisch'}, '101': {'url': 'https://oknesset.org/member/772', 'party': 'Zionist Union', 'n_bills': 112.0, 'photo': 'photos/hasson_yoel.jpg', 'label': 'Yoel Hasson'}, '102': {'url': 'https://oknesset.org/member/897', 'party': 'Yesh Atid', 'n_bills': 73.0, 'photo': 'photos/Rozbozov_Yoel.jpg', 'label': 'Yoel Razvozov'}, '103': {'url': 'https://oknesset.org/member/926', 'party': 'Zionist Union', 'n_bills': 79.0, 'photo': 'photos/Yona_Yossi.jpg', 'label': 'Yoseph Yonah'}, '104': {'url': 'https://oknesset.org/member/919', 'party': 'Joint List', 'n_bills': 119.0, 'photo': 'photos/Jabareen_Yousef.jpg', 'label': 'Yousef Jabareen'}, '105': {'url': 'https://oknesset.org/member/1', 'party': 'Likud', 'n_bills': 2.0, 'photo': 'photos/edelstein_yoel.jpg', 'label': 'Yuli-Yoel Edelstein'}, '106': {'url': 'https://oknesset.org/member/14', 'party': 'Likud', 'n_bills': 3.0, 'photo': 'photos/begin_beni.jpg', 'label': 'Zeev Binyamin Begin'}, '107': {'url': 'https://oknesset.org/member/768', 'party': 'Likud', 'n_bills': 9.0, 'photo': 'photos/elkin_zeev.jpg', 'label': 'Zeev Elkin'}, '108': {'url': 'https://oknesset.org/member/201', 'party': 'Meretz', 'n_bills': 254.0, 'photo': 'photos/galon_zahava.jpg', 'label': 'Zehava Galon'}, '109': {'url': 'https://oknesset.org/member/913', 'party': 'Zionist Union', 'n_bills': 54.0, 'photo': 'photos/Bahloul_Zuhair.jpg', 'label': 'Zouheir Bahloul'}})"
      ]
     },
     "execution_count": 2,
     "metadata": {},
     "output_type": "execute_result"
    }
   ],
   "source": [
    "graph = nx.read_gexf('net_il2015-2018.gexf')\n",
    "graph.nodes(data=True)"
   ]
  },
  {
   "cell_type": "markdown",
   "metadata": {},
   "source": [
    "Number of nodes before filtering:"
   ]
  },
  {
   "cell_type": "code",
   "execution_count": 3,
   "metadata": {},
   "outputs": [
    {
     "data": {
      "text/plain": [
       "109"
      ]
     },
     "execution_count": 3,
     "metadata": {},
     "output_type": "execute_result"
    }
   ],
   "source": [
    "len(graph.nodes())"
   ]
  },
  {
   "cell_type": "markdown",
   "metadata": {},
   "source": [
    "Number of edges before filtering:"
   ]
  },
  {
   "cell_type": "code",
   "execution_count": 4,
   "metadata": {},
   "outputs": [
    {
     "data": {
      "text/plain": [
       "2291"
      ]
     },
     "execution_count": 4,
     "metadata": {},
     "output_type": "execute_result"
    }
   ],
   "source": [
    "len(graph.edges())"
   ]
  },
  {
   "cell_type": "markdown",
   "metadata": {},
   "source": [
    "Number of edges after filtering:"
   ]
  },
  {
   "cell_type": "code",
   "execution_count": 5,
   "metadata": {},
   "outputs": [],
   "source": [
    "edges = [edge for edge in graph.edges(data=True) if(edge[2]['weight'] > 2)]"
   ]
  },
  {
   "cell_type": "code",
   "execution_count": 8,
   "metadata": {
    "scrolled": true
   },
   "outputs": [
    {
     "data": {
      "text/plain": [
       "807"
      ]
     },
     "execution_count": 8,
     "metadata": {},
     "output_type": "execute_result"
    }
   ],
   "source": [
    "# graph.edges = edges\n",
    "len(edges)"
   ]
  },
  {
   "cell_type": "markdown",
   "metadata": {},
   "source": [
    "Number of nodes after filtering:"
   ]
  },
  {
   "cell_type": "code",
   "execution_count": 30,
   "metadata": {},
   "outputs": [
    {
     "data": {
      "text/plain": [
       "109"
      ]
     },
     "execution_count": 30,
     "metadata": {},
     "output_type": "execute_result"
    }
   ],
   "source": [
    "selected_nodes = set()\n",
    "for edge in edges:\n",
    "    selected_nodes.add(edge[0])\n",
    "    selected_nodes.add(edge[1])\n",
    "# len(selected_nodes)\n",
    "len(graph.nodes())"
   ]
  },
  {
   "cell_type": "code",
   "execution_count": 32,
   "metadata": {},
   "outputs": [],
   "source": [
    "graph = graph.subgraph(selected_nodes)"
   ]
  },
  {
   "cell_type": "code",
   "execution_count": 12,
   "metadata": {},
   "outputs": [
    {
     "data": {
      "text/plain": [
       "0.21549213744903903"
      ]
     },
     "execution_count": 12,
     "metadata": {},
     "output_type": "execute_result"
    }
   ],
   "source": [
    "nx.density(graph)"
   ]
  },
  {
   "cell_type": "code",
   "execution_count": 114,
   "metadata": {},
   "outputs": [],
   "source": [
    "# nx.diameter(graph)"
   ]
  },
  {
   "cell_type": "code",
   "execution_count": 115,
   "metadata": {},
   "outputs": [
    {
     "data": {
      "text/plain": [
       "{'1': 0.007469599624123726,\n",
       " '2': 0.010161051886573924,\n",
       " '3': 0.00882976055665649,\n",
       " '4': 0.009472848468711624,\n",
       " '5': 0.011213036475353573,\n",
       " '6': 0.007992783702016344,\n",
       " '7': 0.00686345997975181,\n",
       " '8': 0.006604835476513556,\n",
       " '9': 0.005924358351019328,\n",
       " '10': 0.010211158693340513,\n",
       " '11': 0.006895649723926208,\n",
       " '12': 0.013062877874458256,\n",
       " '13': 0.011361906121632126,\n",
       " '14': 0.012894347496852542,\n",
       " '15': 0.009411357379209007,\n",
       " '16': 0.009007874026017075,\n",
       " '17': 0.008231046072219299,\n",
       " '18': 0.014615137293461292,\n",
       " '19': 0.013784903300953678,\n",
       " '20': 0.013420161673837335,\n",
       " '21': 0.010150879917238008,\n",
       " '22': 0.010456278978793792,\n",
       " '23': 0.01004085960214474,\n",
       " '25': 0.00831595345389869,\n",
       " '26': 0.008420591370640999,\n",
       " '27': 0.013496179057991527,\n",
       " '28': 0.012947022033021172,\n",
       " '29': 0.012594410784097296,\n",
       " '30': 0.009989518467295216,\n",
       " '31': 0.008752014593614847,\n",
       " '32': 0.00946466843655807,\n",
       " '33': 0.008406543187599641,\n",
       " '34': 0.010073843737201419,\n",
       " '35': 0.014855271138924547,\n",
       " '36': 0.009345513107106691,\n",
       " '37': 0.008106047874672487,\n",
       " '38': 0.011618250723193172,\n",
       " '39': 0.005874303143069279,\n",
       " '40': 0.01014281176665635,\n",
       " '41': 0.011524179913520052,\n",
       " '42': 0.007763962065329405,\n",
       " '43': 0.005496164338596984,\n",
       " '44': 0.00811121551204083,\n",
       " '45': 0.007990299990734081,\n",
       " '46': 0.011929966333890337,\n",
       " '47': 0.009436878935027287,\n",
       " '48': 0.009542978811926546,\n",
       " '49': 0.010776153740887983,\n",
       " '50': 0.0065400243233263025,\n",
       " '51': 0.005745386525913521,\n",
       " '52': 0.010370059352531897,\n",
       " '53': 0.01446519284433011,\n",
       " '54': 0.009806171064911799,\n",
       " '55': 0.010526330853674031,\n",
       " '56': 0.008205379972019821,\n",
       " '57': 0.017402149952010695,\n",
       " '58': 0.007679243703905996,\n",
       " '59': 0.009171244711030917,\n",
       " '60': 0.011742457215262302,\n",
       " '61': 0.007096397871949537,\n",
       " '62': 0.0077841962773506496,\n",
       " '63': 0.008119763461225752,\n",
       " '65': 0.009695440179356068,\n",
       " '66': 0.006278608488833121,\n",
       " '67': 0.008420052416569356,\n",
       " '68': 0.006313090986606355,\n",
       " '69': 0.010582675354252375,\n",
       " '70': 0.00885939148343583,\n",
       " '71': 0.00738208401948412,\n",
       " '72': 0.010956750813127164,\n",
       " '73': 0.008205875211807597,\n",
       " '74': 0.009454179501187019,\n",
       " '76': 0.010590890641180956,\n",
       " '77': 0.010008110193891678,\n",
       " '78': 0.00962508101763926,\n",
       " '79': 0.00915457034005775,\n",
       " '80': 0.007254098618193174,\n",
       " '81': 0.00802944975777422,\n",
       " '82': 0.013941131872255005,\n",
       " '84': 0.011326139888404833,\n",
       " '85': 0.00817129374221323,\n",
       " '86': 0.008476882274929015,\n",
       " '87': 0.008100754794691398,\n",
       " '88': 0.009170536498658855,\n",
       " '89': 0.009785507961256925,\n",
       " '90': 0.007594397635710576,\n",
       " '91': 0.012945814157923735,\n",
       " '92': 0.009235516120001145,\n",
       " '93': 0.010726126362404019,\n",
       " '95': 0.00917043433479476,\n",
       " '96': 0.009617768834065088,\n",
       " '97': 0.0076071818818242865,\n",
       " '98': 0.00864343321416595,\n",
       " '99': 0.007736236000727891,\n",
       " '100': 0.010383861672644656,\n",
       " '101': 0.008114061479778376,\n",
       " '102': 0.01114685075467732,\n",
       " '103': 0.008139484029706892,\n",
       " '104': 0.009345686134503964,\n",
       " '107': 0.005284862073226792,\n",
       " '108': 0.01598968235308357,\n",
       " '109': 0.007799537772105708}"
      ]
     },
     "execution_count": 115,
     "metadata": {},
     "output_type": "execute_result"
    }
   ],
   "source": [
    "nx.clustering(graph, weight='weight')"
   ]
  },
  {
   "cell_type": "markdown",
   "metadata": {},
   "source": [
    "Degree:"
   ]
  },
  {
   "cell_type": "code",
   "execution_count": 22,
   "metadata": {},
   "outputs": [
    {
     "data": {
      "text/plain": [
       "['Miri Regev degree is: 87',\n",
       " 'David Bitan degree is: 85',\n",
       " 'Elie Elalouf degree is: 80',\n",
       " 'Miki Zohar degree is: 80',\n",
       " 'Yariv Levin degree is: 80',\n",
       " 'Dov Khenin degree is: 77',\n",
       " 'Itzik Shmuli degree is: 77',\n",
       " 'Shelly Yachimovich degree is: 76',\n",
       " 'Moshe Gafni degree is: 74',\n",
       " 'Merav Michaeli degree is: 73']"
      ]
     },
     "execution_count": 22,
     "metadata": {},
     "output_type": "execute_result"
    }
   ],
   "source": [
    "degree = nx.degree(graph)\n",
    "[str(graph.nodes[node[0]]['label']) + ' degree is: ' + str(degree[node[0]]) for node in sorted(graph.degree(), key=lambda x:x[1], reverse=True)[:10][:10]]"
   ]
  },
  {
   "cell_type": "markdown",
   "metadata": {},
   "source": [
    "Centrality:"
   ]
  },
  {
   "cell_type": "code",
   "execution_count": 117,
   "metadata": {
    "scrolled": true
   },
   "outputs": [
    {
     "data": {
      "text/plain": [
       "['Miri Regev centrality is: 0.8613861386138614',\n",
       " 'David Bitan centrality is: 0.8415841584158416',\n",
       " 'Elie Elalouf centrality is: 0.7920792079207921',\n",
       " 'Miki Zohar centrality is: 0.7920792079207921',\n",
       " 'Yariv Levin centrality is: 0.7920792079207921',\n",
       " 'Dov Khenin centrality is: 0.7623762376237624',\n",
       " 'Itzik Shmuli centrality is: 0.7623762376237624',\n",
       " 'Shelly Yachimovich centrality is: 0.7524752475247525',\n",
       " 'Moshe Gafni centrality is: 0.7326732673267327',\n",
       " 'Merav Michaeli centrality is: 0.7227722772277227']"
      ]
     },
     "execution_count": 117,
     "metadata": {},
     "output_type": "execute_result"
    }
   ],
   "source": [
    "degree_centrality = nx.degree_centrality(graph)\n",
    "[str(graph.nodes[node[0]]['label']) + ' centrality is: ' + str(degree_centrality[node[0]]) for node in sorted(degree_centrality.items(), key=lambda x:x[1], reverse=True)[:10]]"
   ]
  },
  {
   "cell_type": "markdown",
   "metadata": {},
   "source": [
    "Closeness:"
   ]
  },
  {
   "cell_type": "code",
   "execution_count": 118,
   "metadata": {},
   "outputs": [
    {
     "data": {
      "text/plain": [
       "['Miri Regev closeness is: 0.8782608695652174',\n",
       " 'David Bitan closeness is: 0.8234006092916984',\n",
       " 'Yariv Levin closeness is: 0.8058399060245007',\n",
       " 'Miki Zohar closeness is: 0.746911834040547',\n",
       " 'Gila Gamliel closeness is: 0.7278001237623762',\n",
       " 'Yoav Kisch closeness is: 0.7129573826947913',\n",
       " 'Anat Berko closeness is: 0.6667240637107189',\n",
       " 'Elie Elalouf closeness is: 0.6600660066006602',\n",
       " 'Nurit Koren closeness is: 0.659069680552961',\n",
       " 'Haim Katz closeness is: 0.6577830715402367']"
      ]
     },
     "execution_count": 118,
     "metadata": {},
     "output_type": "execute_result"
    }
   ],
   "source": [
    "closeness_centrality = nx.closeness_centrality(graph)\n",
    "[str(graph.nodes[node[0]]['label']) + ' closeness is: ' + str(closeness_centrality[node[0]]) for node in sorted(closeness_centrality.items(), key=lambda x:x[1], reverse=True)[:10]]"
   ]
  },
  {
   "cell_type": "code",
   "execution_count": 119,
   "metadata": {},
   "outputs": [
    {
     "ename": "ArpackNoConvergence",
     "evalue": "ARPACK error -1: No convergence (51 iterations, 0/1 eigenvectors converged) [ARPACK error -14: DNAUPD  did not find any eigenvalues to sufficient accuracy.]",
     "output_type": "error",
     "traceback": [
      "\u001b[1;31m---------------------------------------------------------------------------\u001b[0m",
      "\u001b[1;31mArpackNoConvergence\u001b[0m                       Traceback (most recent call last)",
      "\u001b[1;32m<ipython-input-119-092d2b8966dd>\u001b[0m in \u001b[0;36m<module>\u001b[1;34m\u001b[0m\n\u001b[1;32m----> 1\u001b[1;33m \u001b[0meigenvector_centrality\u001b[0m \u001b[1;33m=\u001b[0m \u001b[0mnx\u001b[0m\u001b[1;33m.\u001b[0m\u001b[0meigenvector_centrality_numpy\u001b[0m\u001b[1;33m(\u001b[0m\u001b[0mgraph\u001b[0m\u001b[1;33m)\u001b[0m\u001b[1;33m\u001b[0m\u001b[1;33m\u001b[0m\u001b[0m\n\u001b[0m",
      "\u001b[1;32m~\\Anaconda2\\envs\\python36\\lib\\site-packages\\networkx\\algorithms\\centrality\\eigenvector.py\u001b[0m in \u001b[0;36meigenvector_centrality_numpy\u001b[1;34m(G, weight, max_iter, tol)\u001b[0m\n\u001b[0;32m    233\u001b[0m                                   dtype=float)\n\u001b[0;32m    234\u001b[0m     eigenvalue, eigenvector = linalg.eigs(M.T, k=1, which='LR',\n\u001b[1;32m--> 235\u001b[1;33m                                           maxiter=max_iter, tol=tol)\n\u001b[0m\u001b[0;32m    236\u001b[0m     \u001b[0mlargest\u001b[0m \u001b[1;33m=\u001b[0m \u001b[0meigenvector\u001b[0m\u001b[1;33m.\u001b[0m\u001b[0mflatten\u001b[0m\u001b[1;33m(\u001b[0m\u001b[1;33m)\u001b[0m\u001b[1;33m.\u001b[0m\u001b[0mreal\u001b[0m\u001b[1;33m\u001b[0m\u001b[1;33m\u001b[0m\u001b[0m\n\u001b[0;32m    237\u001b[0m     \u001b[0mnorm\u001b[0m \u001b[1;33m=\u001b[0m \u001b[0msp\u001b[0m\u001b[1;33m.\u001b[0m\u001b[0msign\u001b[0m\u001b[1;33m(\u001b[0m\u001b[0mlargest\u001b[0m\u001b[1;33m.\u001b[0m\u001b[0msum\u001b[0m\u001b[1;33m(\u001b[0m\u001b[1;33m)\u001b[0m\u001b[1;33m)\u001b[0m \u001b[1;33m*\u001b[0m \u001b[0msp\u001b[0m\u001b[1;33m.\u001b[0m\u001b[0mlinalg\u001b[0m\u001b[1;33m.\u001b[0m\u001b[0mnorm\u001b[0m\u001b[1;33m(\u001b[0m\u001b[0mlargest\u001b[0m\u001b[1;33m)\u001b[0m\u001b[1;33m\u001b[0m\u001b[1;33m\u001b[0m\u001b[0m\n",
      "\u001b[1;32m~\\Anaconda2\\envs\\python36\\lib\\site-packages\\scipy\\sparse\\linalg\\eigen\\arpack\\arpack.py\u001b[0m in \u001b[0;36meigs\u001b[1;34m(A, k, M, sigma, which, v0, ncv, maxiter, tol, return_eigenvectors, Minv, OPinv, OPpart)\u001b[0m\n\u001b[0;32m   1301\u001b[0m     \u001b[1;32mwith\u001b[0m \u001b[0m_ARPACK_LOCK\u001b[0m\u001b[1;33m:\u001b[0m\u001b[1;33m\u001b[0m\u001b[1;33m\u001b[0m\u001b[0m\n\u001b[0;32m   1302\u001b[0m         \u001b[1;32mwhile\u001b[0m \u001b[1;32mnot\u001b[0m \u001b[0mparams\u001b[0m\u001b[1;33m.\u001b[0m\u001b[0mconverged\u001b[0m\u001b[1;33m:\u001b[0m\u001b[1;33m\u001b[0m\u001b[1;33m\u001b[0m\u001b[0m\n\u001b[1;32m-> 1303\u001b[1;33m             \u001b[0mparams\u001b[0m\u001b[1;33m.\u001b[0m\u001b[0miterate\u001b[0m\u001b[1;33m(\u001b[0m\u001b[1;33m)\u001b[0m\u001b[1;33m\u001b[0m\u001b[1;33m\u001b[0m\u001b[0m\n\u001b[0m\u001b[0;32m   1304\u001b[0m \u001b[1;33m\u001b[0m\u001b[0m\n\u001b[0;32m   1305\u001b[0m         \u001b[1;32mreturn\u001b[0m \u001b[0mparams\u001b[0m\u001b[1;33m.\u001b[0m\u001b[0mextract\u001b[0m\u001b[1;33m(\u001b[0m\u001b[0mreturn_eigenvectors\u001b[0m\u001b[1;33m)\u001b[0m\u001b[1;33m\u001b[0m\u001b[1;33m\u001b[0m\u001b[0m\n",
      "\u001b[1;32m~\\Anaconda2\\envs\\python36\\lib\\site-packages\\scipy\\sparse\\linalg\\eigen\\arpack\\arpack.py\u001b[0m in \u001b[0;36miterate\u001b[1;34m(self)\u001b[0m\n\u001b[0;32m    753\u001b[0m                 \u001b[1;32mpass\u001b[0m\u001b[1;33m\u001b[0m\u001b[1;33m\u001b[0m\u001b[0m\n\u001b[0;32m    754\u001b[0m             \u001b[1;32melif\u001b[0m \u001b[0mself\u001b[0m\u001b[1;33m.\u001b[0m\u001b[0minfo\u001b[0m \u001b[1;33m==\u001b[0m \u001b[1;36m1\u001b[0m\u001b[1;33m:\u001b[0m\u001b[1;33m\u001b[0m\u001b[1;33m\u001b[0m\u001b[0m\n\u001b[1;32m--> 755\u001b[1;33m                 \u001b[0mself\u001b[0m\u001b[1;33m.\u001b[0m\u001b[0m_raise_no_convergence\u001b[0m\u001b[1;33m(\u001b[0m\u001b[1;33m)\u001b[0m\u001b[1;33m\u001b[0m\u001b[1;33m\u001b[0m\u001b[0m\n\u001b[0m\u001b[0;32m    756\u001b[0m             \u001b[1;32melse\u001b[0m\u001b[1;33m:\u001b[0m\u001b[1;33m\u001b[0m\u001b[1;33m\u001b[0m\u001b[0m\n\u001b[0;32m    757\u001b[0m                 \u001b[1;32mraise\u001b[0m \u001b[0mArpackError\u001b[0m\u001b[1;33m(\u001b[0m\u001b[0mself\u001b[0m\u001b[1;33m.\u001b[0m\u001b[0minfo\u001b[0m\u001b[1;33m,\u001b[0m \u001b[0minfodict\u001b[0m\u001b[1;33m=\u001b[0m\u001b[0mself\u001b[0m\u001b[1;33m.\u001b[0m\u001b[0miterate_infodict\u001b[0m\u001b[1;33m)\u001b[0m\u001b[1;33m\u001b[0m\u001b[1;33m\u001b[0m\u001b[0m\n",
      "\u001b[1;32m~\\Anaconda2\\envs\\python36\\lib\\site-packages\\scipy\\sparse\\linalg\\eigen\\arpack\\arpack.py\u001b[0m in \u001b[0;36m_raise_no_convergence\u001b[1;34m(self)\u001b[0m\n\u001b[0;32m    373\u001b[0m             \u001b[0mvec\u001b[0m \u001b[1;33m=\u001b[0m \u001b[0mnp\u001b[0m\u001b[1;33m.\u001b[0m\u001b[0mzeros\u001b[0m\u001b[1;33m(\u001b[0m\u001b[1;33m(\u001b[0m\u001b[0mself\u001b[0m\u001b[1;33m.\u001b[0m\u001b[0mn\u001b[0m\u001b[1;33m,\u001b[0m \u001b[1;36m0\u001b[0m\u001b[1;33m)\u001b[0m\u001b[1;33m)\u001b[0m\u001b[1;33m\u001b[0m\u001b[1;33m\u001b[0m\u001b[0m\n\u001b[0;32m    374\u001b[0m             \u001b[0mk_ok\u001b[0m \u001b[1;33m=\u001b[0m \u001b[1;36m0\u001b[0m\u001b[1;33m\u001b[0m\u001b[1;33m\u001b[0m\u001b[0m\n\u001b[1;32m--> 375\u001b[1;33m         \u001b[1;32mraise\u001b[0m \u001b[0mArpackNoConvergence\u001b[0m\u001b[1;33m(\u001b[0m\u001b[0mmsg\u001b[0m \u001b[1;33m%\u001b[0m \u001b[1;33m(\u001b[0m\u001b[0mnum_iter\u001b[0m\u001b[1;33m,\u001b[0m \u001b[0mk_ok\u001b[0m\u001b[1;33m,\u001b[0m \u001b[0mself\u001b[0m\u001b[1;33m.\u001b[0m\u001b[0mk\u001b[0m\u001b[1;33m)\u001b[0m\u001b[1;33m,\u001b[0m \u001b[0mev\u001b[0m\u001b[1;33m,\u001b[0m \u001b[0mvec\u001b[0m\u001b[1;33m)\u001b[0m\u001b[1;33m\u001b[0m\u001b[1;33m\u001b[0m\u001b[0m\n\u001b[0m\u001b[0;32m    376\u001b[0m \u001b[1;33m\u001b[0m\u001b[0m\n\u001b[0;32m    377\u001b[0m \u001b[1;33m\u001b[0m\u001b[0m\n",
      "\u001b[1;31mArpackNoConvergence\u001b[0m: ARPACK error -1: No convergence (51 iterations, 0/1 eigenvectors converged) [ARPACK error -14: DNAUPD  did not find any eigenvalues to sufficient accuracy.]"
     ]
    }
   ],
   "source": [
    "eigenvector_centrality = nx.eigenvector_centrality_numpy(graph)"
   ]
  },
  {
   "cell_type": "code",
   "execution_count": 121,
   "metadata": {},
   "outputs": [
    {
     "data": {
      "text/plain": [
       "['Miri Regev eigenvector centrality is: 0.9107849019100569',\n",
       " 'Zeev Elkin eigenvector centrality is: 0.2990481829961771',\n",
       " 'Yariv Levin eigenvector centrality is: 0.24921475400380075',\n",
       " 'Gila Gamliel eigenvector centrality is: 0.11916545561904549',\n",
       " 'David Bitan eigenvector centrality is: 0.04617101513543446',\n",
       " 'Ofir Akunis eigenvector centrality is: 0.03381340898807155',\n",
       " 'Haim Katz eigenvector centrality is: 0.02986841261174561',\n",
       " 'Yoav Kisch eigenvector centrality is: 0.02097662692866232',\n",
       " 'David Amsalem eigenvector centrality is: 0.009819927124718063',\n",
       " 'Miki Zohar eigenvector centrality is: 0.004624727484292802']"
      ]
     },
     "execution_count": 121,
     "metadata": {},
     "output_type": "execute_result"
    }
   ],
   "source": [
    "[str(graph.nodes[node[0]]['label']) + ' eigenvector centrality is: ' + str(eigenvector_centrality[node[0]]) for node in sorted(eigenvector_centrality.items(), key=lambda x:x[1], reverse=True)[:10]]"
   ]
  },
  {
   "cell_type": "code",
   "execution_count": 120,
   "metadata": {},
   "outputs": [
    {
     "data": {
      "text/plain": [
       "['Miri Regev normalized eigenvector centrality is: 0.8613861386138614',\n",
       " 'Zeev Elkin normalized eigenvector centrality is: 0.27722772277227725',\n",
       " 'Yariv Levin normalized eigenvector centrality is: 0.7920792079207921',\n",
       " 'Gila Gamliel normalized eigenvector centrality is: 0.6732673267326733',\n",
       " 'David Bitan normalized eigenvector centrality is: 0.8415841584158416',\n",
       " 'Ofir Akunis normalized eigenvector centrality is: 0.2079207920792079',\n",
       " 'Haim Katz normalized eigenvector centrality is: 0.5841584158415841',\n",
       " 'Yoav Kisch normalized eigenvector centrality is: 0.7128712871287128',\n",
       " 'David Amsalem normalized eigenvector centrality is: 0.5445544554455446',\n",
       " 'Miki Zohar normalized eigenvector centrality is: 0.7920792079207921']"
      ]
     },
     "execution_count": 120,
     "metadata": {},
     "output_type": "execute_result"
    }
   ],
   "source": [
    "# compute eigenvector centrality - normalized\n",
    "\n",
    "max_value = max(eigenvector_centrality.items(), key=lambda x: x[1])\n",
    "\n",
    "ec_scaled = {}\n",
    "for k in eigenvector_centrality.keys():\n",
    "    ec_scaled[k] = max (eigenvector_centrality[k] / max_value[1],0.0)\n",
    "\n",
    "# Scaled by the most central character (karev)\n",
    "[str(graph.nodes[node[0]]['label']) + ' normalized eigenvector centrality is: ' + str(degree_centrality[node[0]]) for node in sorted(ec_scaled.items(), key=lambda x:x[1], reverse=True)[:10]]"
   ]
  },
  {
   "cell_type": "markdown",
   "metadata": {},
   "source": [
    "Community detection:"
   ]
  },
  {
   "cell_type": "code",
   "execution_count": 128,
   "metadata": {},
   "outputs": [],
   "source": [
    "from networkx.algorithms.community import girvan_newman\n",
    "\n",
    "gn_comm = girvan_newman(graph)\n",
    "for i in range(0,4):\n",
    "    current = enumerate (tuple(sorted(c) for c in next(gn_comm)))\n",
    "    membership = dict()\n",
    "    for commId,members in current:\n",
    "        for m in members:\n",
    "            membership[m]=commId\n",
    "    nx.set_node_attributes(graph, membership, 'partition_'+str(i))"
   ]
  },
  {
   "cell_type": "code",
   "execution_count": 146,
   "metadata": {},
   "outputs": [
    {
     "data": {
      "text/plain": [
       "[('1',\n",
       "  {'url': 'https://oknesset.org/member/923',\n",
       "   'party': 'Joint List',\n",
       "   'n_bills': 37.0,\n",
       "   'photo': 'photos/Haj-Yahya_Abd-Al-Hakeem.jpg',\n",
       "   'label': 'Abd Al Hakeem Haj Yahya',\n",
       "   'partition_0': 0,\n",
       "   'partition_1': 0,\n",
       "   'partition_2': 0,\n",
       "   'partition_3': 0}),\n",
       " ('2',\n",
       "  {'url': 'https://oknesset.org/member/909',\n",
       "   'party': 'Joint List',\n",
       "   'n_bills': 152.0,\n",
       "   'photo': 'photos/Abu-Maaruf_Abdullah.jpg',\n",
       "   'label': 'Abdullah Abu Maaruf',\n",
       "   'partition_0': 0,\n",
       "   'partition_1': 0,\n",
       "   'partition_2': 0,\n",
       "   'partition_3': 0})]"
      ]
     },
     "execution_count": 146,
     "metadata": {},
     "output_type": "execute_result"
    }
   ],
   "source": [
    "list(graph.nodes(data=True))[:2]"
   ]
  },
  {
   "cell_type": "code",
   "execution_count": 142,
   "metadata": {},
   "outputs": [
    {
     "name": "stdout",
     "output_type": "stream",
     "text": [
      "Joint List\n",
      "Joint List\n",
      "Joint List\n",
      "Joint List\n",
      "Yesh Atid\n",
      "Zionist Union\n",
      "Likud\n",
      "Shas\n",
      "Likud\n",
      "Likud\n",
      "Zionist Union\n",
      "The Jewish Home\n",
      "Joint List\n",
      "Joint List\n",
      "The Jewish Home\n",
      "Likud\n",
      "Shas\n",
      "Likud\n",
      "Joint List\n",
      "Zionist Union\n",
      "Zionist Union\n",
      "Yesh Atid\n",
      "Kulanu\n",
      "Kulanu\n",
      "Zionist Union\n",
      "Meretz\n",
      "Zionist Union\n",
      "Likud\n",
      "Yesh Atid\n",
      "Likud\n",
      "Yisrael Beiteinu\n",
      "Joint List\n",
      "Meretz\n",
      "Zionist Union\n",
      "United Torah Judaism\n",
      "Zionist Union\n",
      "Likud\n",
      "Joint List\n",
      "Yesh Atid\n",
      "Zionist Union\n",
      "Zionist Union\n",
      "Joint List\n",
      "Yesh Atid\n",
      "United Torah Judaism\n",
      "United Torah Judaism\n",
      "Kulanu\n",
      "Zionist Union\n",
      "Shas\n",
      "Kulanu\n",
      "Zionist Union\n",
      "Meretz\n",
      "Yesh Atid\n",
      "Zionist Union\n",
      "Likud\n",
      "Likud\n",
      "The Jewish Home\n",
      "United Torah Judaism\n",
      "Zionist Union\n",
      "Likud\n",
      "The Jewish Home\n",
      "Likud\n",
      "Yesh Atid\n",
      "Likud\n",
      "Zionist Union\n",
      "Likud\n",
      "Yisrael Beiteinu\n",
      "Joint List\n",
      "Kulanu\n",
      "Zionist Union\n",
      "Yisrael Beiteinu\n",
      "Kulanu\n",
      "Zionist Union\n",
      "The Jewish Home\n",
      "Yisrael Beiteinu\n",
      "Zionist Union\n",
      "Kulanu\n",
      "Meretz\n",
      "Likud\n",
      "United Torah Judaism\n",
      "The Jewish Home\n",
      "Yesh Atid\n",
      "Yesh Atid\n",
      "Yesh Atid\n",
      "Shas\n",
      "Likud\n",
      "Zionist Union\n",
      "Kulanu\n",
      "Shas\n",
      "Shas\n",
      "Shas\n",
      "Likud\n",
      "Zionist Union\n",
      "Yesh Atid\n",
      "Zionist Union\n",
      "Joint List\n",
      "Likud\n",
      "Meretz\n",
      "Zionist Union\n"
     ]
    }
   ],
   "source": [
    "# Need to check that\n",
    "nodes = list(graph.nodes(data=True))\n",
    "\n",
    "for node in nodes:\n",
    "    if node[1]['partition_3'] == 0:\n",
    "        print(node[1]['party'])"
   ]
  },
  {
   "cell_type": "markdown",
   "metadata": {},
   "source": [
    "Link prediction:"
   ]
  }
 ],
 "metadata": {
  "kernelspec": {
   "display_name": "Python 3",
   "language": "python",
   "name": "python3"
  },
  "language_info": {
   "codemirror_mode": {
    "name": "ipython",
    "version": 3
   },
   "file_extension": ".py",
   "mimetype": "text/x-python",
   "name": "python",
   "nbconvert_exporter": "python",
   "pygments_lexer": "ipython3",
   "version": "3.6.8"
  }
 },
 "nbformat": 4,
 "nbformat_minor": 2
}
