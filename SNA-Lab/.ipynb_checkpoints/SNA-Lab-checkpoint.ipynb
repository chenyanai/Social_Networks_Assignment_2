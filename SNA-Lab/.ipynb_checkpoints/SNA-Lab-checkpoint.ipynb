{
 "cells": [
  {
   "cell_type": "code",
   "execution_count": null,
   "metadata": {
    "collapsed": true
   },
   "outputs": [],
   "source": [
    "import networkx as nx\n",
    "import numpy as np\n",
    "import pandas as pd\n",
    "import matplotlib.pyplot as plt\n",
    "%matplotlib inline"
   ]
  },
  {
   "cell_type": "code",
   "execution_count": null,
   "metadata": {},
   "outputs": [],
   "source": [
    "# Read the GA networtk from edge list as Panda's dataframe\n",
    "ga_edges = pd.read_csv('ga.edge.list.csv')\n",
    "ga_edges.head()"
   ]
  },
  {
   "cell_type": "code",
   "execution_count": null,
   "metadata": {},
   "outputs": [],
   "source": [
    "# Convert the dataframe to NetworkX graph\n",
    "GA = nx.from_pandas_dataframe(ga_edges, source=\"from\", target=\"to\")\n",
    "print(nx.info(GA))"
   ]
  },
  {
   "cell_type": "code",
   "execution_count": null,
   "metadata": {},
   "outputs": [],
   "source": [
    "# Draw the graph using Spring layout\n",
    "nx.draw_spring(GA, with_labels=True)"
   ]
  },
  {
   "cell_type": "code",
   "execution_count": null,
   "metadata": {},
   "outputs": [],
   "source": [
    "# Draw the graph using Circular layout\n",
    "nx.draw_circular(GA, with_labels=True)"
   ]
  },
  {
   "cell_type": "code",
   "execution_count": null,
   "metadata": {},
   "outputs": [],
   "source": [
    "#Print the conncetions of denny\n",
    "print(\"'denny' From Edge List Graph:\", GA['denny'])"
   ]
  },
  {
   "cell_type": "code",
   "execution_count": null,
   "metadata": {},
   "outputs": [],
   "source": [
    "# What is the degree of Meredith?\n",
    "GA.degree(\"grey\")"
   ]
  },
  {
   "cell_type": "code",
   "execution_count": null,
   "metadata": {},
   "outputs": [],
   "source": [
    "# And for all the cast..\n",
    "GA.degree()"
   ]
  },
  {
   "cell_type": "code",
   "execution_count": null,
   "metadata": {},
   "outputs": [],
   "source": [
    "# Here's the top 5.\n",
    "sorted(GA.degree(), key=lambda x:x[1], reverse=True)[:5]"
   ]
  },
  {
   "cell_type": "code",
   "execution_count": null,
   "metadata": {},
   "outputs": [],
   "source": [
    "# Degree Centrality (Normalized)\n",
    "\n",
    "# Degree for the 'Grey' node\n",
    "degree_grey = GA.degree(\"grey\")  # 4 romantic partners\n",
    "# Total number of nodes (excluding Grey) \n",
    "total_nodes_minus_grey = len(GA.nodes())-1  # 31 characters in the cast, excluding Grey\n",
    "\n",
    "# Degree centrality for Grey\n",
    "degree_centrality_grey = (float(degree_grey) / total_nodes_minus_grey)\n",
    "print(\"Calculated degree centrality for Grey:\", degree_centrality_grey)\n",
    "\n",
    "# Double check\n",
    "print(\"Networkx degree centrality for Grey:\", nx.degree_centrality(GA)[\"grey\"])\n",
    "\n",
    "def check_equal(val1, val2):\n",
    "    assert (val1 == val2),\"Centrality measure calculated incorrectly!\"\n",
    "    return \"Values match, good job!\"\n",
    "\n",
    "check_equal(degree_centrality_grey, nx.degree_centrality(GA)[\"grey\"])"
   ]
  },
  {
   "cell_type": "code",
   "execution_count": null,
   "metadata": {},
   "outputs": [],
   "source": [
    "# Degree Centrality (Normalized) for all the nodes\n",
    "degree_centrality = nx.degree_centrality(GA)\n",
    "degree_centrality"
   ]
  },
  {
   "cell_type": "code",
   "execution_count": null,
   "metadata": {},
   "outputs": [],
   "source": [
    "# Top 5.  Percent of cast this character has been with.\n",
    "sorted(degree_centrality.items(), key=lambda x: x[1], reverse=True)[:5]"
   ]
  },
  {
   "cell_type": "code",
   "execution_count": null,
   "metadata": {},
   "outputs": [],
   "source": [
    "# attach the degree centrality as node attributes\n",
    "nx.set_node_attributes(GA, degree_centrality, 'degree centrality')\n",
    "GA.node['karev']"
   ]
  },
  {
   "cell_type": "code",
   "execution_count": null,
   "metadata": {},
   "outputs": [],
   "source": [
    "# compute closeness centrality\n",
    "closeness_centrality = nx.closeness_centrality(GA)\n",
    "closeness_centrality"
   ]
  },
  {
   "cell_type": "code",
   "execution_count": null,
   "metadata": {},
   "outputs": [],
   "source": [
    "# Attach closeness centrality\n",
    "nx.set_node_attributes(GA, closeness_centrality, 'closeness centrality')\n",
    "closeness_centrality['grey']"
   ]
  },
  {
   "cell_type": "code",
   "execution_count": null,
   "metadata": {},
   "outputs": [],
   "source": [
    "# compute betweeness centrality\n",
    "betweeness_centrality = nx.betweenness_centrality(GA)\n",
    "betweeness_centrality"
   ]
  },
  {
   "cell_type": "code",
   "execution_count": null,
   "metadata": {},
   "outputs": [],
   "source": [
    "# Top 5 \n",
    "sorted(betweeness_centrality.items(), key=lambda x: x[1], reverse=True)[:5]"
   ]
  },
  {
   "cell_type": "code",
   "execution_count": null,
   "metadata": {},
   "outputs": [],
   "source": [
    "# compute eigenvector centrality\n",
    "eigenvector_centrality = nx.eigenvector_centrality_numpy(GA)\n",
    "eigenvector_centrality"
   ]
  },
  {
   "cell_type": "code",
   "execution_count": null,
   "metadata": {},
   "outputs": [],
   "source": [
    "# compute eigenvector centrality - normalized\n",
    "\n",
    "max_value = max(eigenvector_centrality.items(), key=lambda x: x[1])\n",
    "\n",
    "ec_scaled = {}\n",
    "for k in eigenvector_centrality.keys():\n",
    "    ec_scaled[k] = max (eigenvector_centrality[k] / max_value[1],0.0)\n",
    "\n",
    "# Scaled by the most central character (karev)\n",
    "sorted(ec_scaled.items(), key=lambda x:x[1], reverse=True)"
   ]
  },
  {
   "cell_type": "code",
   "execution_count": null,
   "metadata": {},
   "outputs": [],
   "source": [
    "# Link Prediction - who will the next couple?\n",
    "# jaccard_coefficient(u,v) = |intersection(N(u), N(v))| / |union(N(u), N(v))|, \n",
    "# when N(z) = the immidate neighbors of \"z\" \n",
    "\n",
    "preds_jc = nx.jaccard_coefficient(GA)\n",
    "\n",
    "\n",
    "pred_jc_dict = {}\n",
    "for u, v, p in preds_jc:\n",
    "    pred_jc_dict[(u,v)] = p\n",
    "\n",
    "sorted(pred_jc_dict.items(), key=lambda x:x[1], reverse=True)[:10]"
   ]
  },
  {
   "cell_type": "code",
   "execution_count": null,
   "metadata": {},
   "outputs": [],
   "source": [
    "# Link Prediction - who will the next couple?\n",
    "# preferential_attachment(u,v) = deg(u)*deg(v)\n",
    "\n",
    "preds_pa = nx.preferential_attachment(GA)\n",
    "\n",
    "pred_pa_dict = {}\n",
    "for u, v, p in preds_pa:\n",
    "    pred_pa_dict[(u,v)] = p\n",
    "\n",
    "sorted(pred_pa_dict.items(), key=lambda x:x[1], reverse=True)[:10]"
   ]
  },
  {
   "cell_type": "code",
   "execution_count": null,
   "metadata": {},
   "outputs": [],
   "source": [
    "# Link Prediction - who will the next couple?\n",
    "# adamic_adar_index(u,v) = sum(1/log(N(t)),  when t belongs to intersection(N(u), N(v))\n",
    "# when N(z) = the immidate neighbors of \"z\" \n",
    "\n",
    "preds_aa = nx.adamic_adar_index(GA)\n",
    "\n",
    "pred_aa_dict = {}\n",
    "for u, v, p in preds_aa:\n",
    "    pred_aa_dict[(u,v)] = p\n",
    "\n",
    "sorted(pred_aa_dict.items(), key=lambda x:x[1], reverse=True)[:10]"
   ]
  },
  {
   "cell_type": "code",
   "execution_count": null,
   "metadata": {},
   "outputs": [],
   "source": [
    "# Find communities - using the girvan_newman (edge betweeness)\n",
    "# select the first partioning\n",
    "\n",
    "from networkx.algorithms.community import girvan_newman\n",
    "gn_comm = girvan_newman(GA)\n",
    "first_iteration_comm = tuple(sorted(c) for c in next(gn_comm))\n",
    "dict(enumerate(first_iteration_comm))"
   ]
  },
  {
   "cell_type": "code",
   "execution_count": null,
   "metadata": {},
   "outputs": [],
   "source": [
    "# compute communities - using the girvan_newman (edge betweeness)\n",
    "# select the first four partionings\n",
    "\n",
    "\n",
    "from networkx.algorithms.community import girvan_newman\n",
    "gn_comm = girvan_newman(GA)\n",
    "for i in range(0,4):\n",
    "    current = tuple(sorted(c) for c in next(gn_comm))\n",
    "    print \"Partition \" + str(i)\n",
    "\n",
    "    print dict(enumerate(current))"
   ]
  },
  {
   "cell_type": "code",
   "execution_count": null,
   "metadata": {},
   "outputs": [],
   "source": [
    "# compute communities - using the girvan_newman (edge betweeness)\n",
    "# select the first four partionings ans assign the partitions to the nodes as attrbites\n",
    "\n",
    "\n",
    "from networkx.algorithms.community import girvan_newman\n",
    "gn_comm = girvan_newman(GA)\n",
    "for i in range(0,4):\n",
    "    current = enumerate (tuple(sorted(c) for c in next(gn_comm)))\n",
    "    membership = dict()\n",
    "    for commId,members in current:\n",
    "        for m in members:\n",
    "            membership[m]=commId\n",
    "    nx.set_node_attributes(GA, membership, 'partition_'+str(i))\n",
    "\n",
    "print GA.node['grey']"
   ]
  },
  {
   "cell_type": "code",
   "execution_count": null,
   "metadata": {
    "collapsed": true
   },
   "outputs": [],
   "source": [
    "# Export the graph\n",
    "nx.write_gexf(GA,'GA-update.gexf')"
   ]
  }
 ],
 "metadata": {
  "kernelspec": {
   "display_name": "Python 3",
   "language": "python",
   "name": "python3"
  },
  "language_info": {
   "codemirror_mode": {
    "name": "ipython",
    "version": 3
   },
   "file_extension": ".py",
   "mimetype": "text/x-python",
   "name": "python",
   "nbconvert_exporter": "python",
   "pygments_lexer": "ipython3",
   "version": "3.6.7"
  }
 },
 "nbformat": 4,
 "nbformat_minor": 2
}
